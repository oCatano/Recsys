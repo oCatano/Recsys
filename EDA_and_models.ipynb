{
 "cells": [
  {
   "cell_type": "markdown",
   "id": "28890e74-01a4-4079-8950-7a4bf96907ab",
   "metadata": {},
   "source": [
    "# Recommender Systems"
   ]
  },
  {
   "cell_type": "markdown",
   "id": "2a8ebbf9",
   "metadata": {},
   "source": [
    "# Библиотеки"
   ]
  },
  {
   "cell_type": "code",
   "execution_count": 1,
   "id": "87020f5c",
   "metadata": {},
   "outputs": [],
   "source": [
    "from abc import ABC, abstractmethod\n",
    "from typing import Dict, List\n",
    "\n",
    "import matplotlib.pyplot as plt\n",
    "import seaborn as sns\n",
    "import numpy as np\n",
    "import pandas as pd\n",
    "from implicit.als import AlternatingLeastSquares\n",
    "from scipy.sparse import csr_matrix, coo_matrix\n",
    "from sklearn.preprocessing import LabelEncoder\n",
    "from tqdm.auto import tqdm\n",
    "\n",
    "from sklearn.neighbors import NearestNeighbors\n",
    "\n"
   ]
  },
  {
   "cell_type": "markdown",
   "id": "ac5ea33e",
   "metadata": {},
   "source": [
    "# Данные"
   ]
  },
  {
   "cell_type": "markdown",
   "id": "c457efa5",
   "metadata": {},
   "source": [
    "В качестве данных будем использовать датасет от MTS.AI: [kion-data](https://arxiv.org/pdf/2209.00325.pdf).  \n",
    "Это информация о просмотрах пользователей различных фильмов и сериалов с названиями, описаниями и прочими фичами. \n",
    "**Обратите внимание, что вы можете парсить интернет, для получения дополнительных фичей! Только не забудьте описать, какие фичи вы взяли и где вы их достали!**   \n",
    "Мы заранее поделили выборки на тренировочную и тестовую части, поэтому **просим** вас придерживаться следующих правил: с тренировочными данными разрешается делать **всё что угодно**, тестовую же часть **запрещается изменять**!  \n",
    "\n",
    "Датасет представляет из себя 4 файла: тренировочную часть (`train_data.csv`), тестовую часть(`test_data.csv`), описание пользователей(`users.csv`) и описание айтемов(`items_.csv`). "
   ]
  },
  {
   "cell_type": "code",
   "execution_count": 2,
   "id": "4fe28e8d",
   "metadata": {},
   "outputs": [],
   "source": [
    "data_folder = \"kion_data/\"\n",
    "\n",
    "users_df = pd.read_csv(data_folder + \"users.csv\")\n",
    "items_df = pd.read_csv(data_folder + \"items.csv\")\n",
    "train_part = pd.read_csv(data_folder + \"train_data.csv\", parse_dates=[\"last_watch_dt\"])\n",
    "test_part = pd.read_csv(data_folder + \"test_data.csv\")\n",
    "test_part = test_part.groupby(\"user_id\").agg({\"ground_truth\": list}).reset_index()\n"
   ]
  },
  {
   "cell_type": "markdown",
   "id": "4181deb6",
   "metadata": {},
   "source": [
    "# Пользователи"
   ]
  },
  {
   "cell_type": "code",
   "execution_count": 3,
   "id": "5ac529e0",
   "metadata": {},
   "outputs": [
    {
     "data": {
      "text/html": [
       "<div>\n",
       "<style scoped>\n",
       "    .dataframe tbody tr th:only-of-type {\n",
       "        vertical-align: middle;\n",
       "    }\n",
       "\n",
       "    .dataframe tbody tr th {\n",
       "        vertical-align: top;\n",
       "    }\n",
       "\n",
       "    .dataframe thead th {\n",
       "        text-align: right;\n",
       "    }\n",
       "</style>\n",
       "<table border=\"1\" class=\"dataframe\">\n",
       "  <thead>\n",
       "    <tr style=\"text-align: right;\">\n",
       "      <th></th>\n",
       "      <th>user_id</th>\n",
       "      <th>age</th>\n",
       "      <th>income</th>\n",
       "      <th>sex</th>\n",
       "      <th>kids_flg</th>\n",
       "    </tr>\n",
       "  </thead>\n",
       "  <tbody>\n",
       "    <tr>\n",
       "      <th>0</th>\n",
       "      <td>973171</td>\n",
       "      <td>age_25_34</td>\n",
       "      <td>income_60_90</td>\n",
       "      <td>М</td>\n",
       "      <td>1</td>\n",
       "    </tr>\n",
       "    <tr>\n",
       "      <th>1</th>\n",
       "      <td>962099</td>\n",
       "      <td>age_18_24</td>\n",
       "      <td>income_20_40</td>\n",
       "      <td>М</td>\n",
       "      <td>0</td>\n",
       "    </tr>\n",
       "    <tr>\n",
       "      <th>2</th>\n",
       "      <td>721985</td>\n",
       "      <td>age_45_54</td>\n",
       "      <td>income_20_40</td>\n",
       "      <td>Ж</td>\n",
       "      <td>0</td>\n",
       "    </tr>\n",
       "    <tr>\n",
       "      <th>3</th>\n",
       "      <td>704055</td>\n",
       "      <td>age_35_44</td>\n",
       "      <td>income_60_90</td>\n",
       "      <td>Ж</td>\n",
       "      <td>0</td>\n",
       "    </tr>\n",
       "    <tr>\n",
       "      <th>4</th>\n",
       "      <td>846063</td>\n",
       "      <td>age_35_44</td>\n",
       "      <td>income_40_60</td>\n",
       "      <td>Ж</td>\n",
       "      <td>1</td>\n",
       "    </tr>\n",
       "  </tbody>\n",
       "</table>\n",
       "</div>"
      ],
      "text/plain": [
       "   user_id        age        income sex  kids_flg\n",
       "0   973171  age_25_34  income_60_90   М         1\n",
       "1   962099  age_18_24  income_20_40   М         0\n",
       "2   721985  age_45_54  income_20_40   Ж         0\n",
       "3   704055  age_35_44  income_60_90   Ж         0\n",
       "4   846063  age_35_44  income_40_60   Ж         1"
      ]
     },
     "execution_count": 3,
     "metadata": {},
     "output_type": "execute_result"
    }
   ],
   "source": [
    "users_df.head()"
   ]
  },
  {
   "cell_type": "markdown",
   "id": "8b1d94a2",
   "metadata": {},
   "source": [
    "## Какие есть признаки?\n",
    "\n",
    "1. `user_id` – индентификатор пользователя, уникален для каждого\n",
    "2. `age` – категориальный признак, показывающий возрастную группу пользователя\n",
    "3. `income` – категориальный признак, показывающий зарплатную группу пользователя\n",
    "4. `sex` – пол пользователя\n",
    "5. `kids_flg` – наличие детей у пользователя\n"
   ]
  },
  {
   "cell_type": "markdown",
   "id": "5958decd",
   "metadata": {},
   "source": [
    "# Айтемы"
   ]
  },
  {
   "cell_type": "code",
   "execution_count": 4,
   "id": "ab072a65",
   "metadata": {},
   "outputs": [
    {
     "data": {
      "text/html": [
       "<div>\n",
       "<style scoped>\n",
       "    .dataframe tbody tr th:only-of-type {\n",
       "        vertical-align: middle;\n",
       "    }\n",
       "\n",
       "    .dataframe tbody tr th {\n",
       "        vertical-align: top;\n",
       "    }\n",
       "\n",
       "    .dataframe thead th {\n",
       "        text-align: right;\n",
       "    }\n",
       "</style>\n",
       "<table border=\"1\" class=\"dataframe\">\n",
       "  <thead>\n",
       "    <tr style=\"text-align: right;\">\n",
       "      <th></th>\n",
       "      <th>item_id</th>\n",
       "      <th>content_type</th>\n",
       "      <th>title</th>\n",
       "      <th>title_orig</th>\n",
       "      <th>release_year</th>\n",
       "      <th>genres</th>\n",
       "      <th>countries</th>\n",
       "      <th>for_kids</th>\n",
       "      <th>age_rating</th>\n",
       "      <th>studios</th>\n",
       "      <th>directors</th>\n",
       "      <th>actors</th>\n",
       "      <th>description</th>\n",
       "      <th>keywords</th>\n",
       "    </tr>\n",
       "  </thead>\n",
       "  <tbody>\n",
       "    <tr>\n",
       "      <th>0</th>\n",
       "      <td>10711</td>\n",
       "      <td>film</td>\n",
       "      <td>Поговори с ней</td>\n",
       "      <td>Hable con ella</td>\n",
       "      <td>2002.0</td>\n",
       "      <td>драмы, зарубежные, детективы, мелодрамы</td>\n",
       "      <td>Испания</td>\n",
       "      <td>NaN</td>\n",
       "      <td>16.0</td>\n",
       "      <td>NaN</td>\n",
       "      <td>Педро Альмодовар</td>\n",
       "      <td>Адольфо Фернандес, Ана Фернандес, Дарио Гранди...</td>\n",
       "      <td>Мелодрама легендарного Педро Альмодовара «Пого...</td>\n",
       "      <td>Поговори, ней, 2002, Испания, друзья, любовь, ...</td>\n",
       "    </tr>\n",
       "    <tr>\n",
       "      <th>1</th>\n",
       "      <td>2508</td>\n",
       "      <td>film</td>\n",
       "      <td>Голые перцы</td>\n",
       "      <td>Search Party</td>\n",
       "      <td>2014.0</td>\n",
       "      <td>зарубежные, приключения, комедии</td>\n",
       "      <td>США</td>\n",
       "      <td>NaN</td>\n",
       "      <td>16.0</td>\n",
       "      <td>NaN</td>\n",
       "      <td>Скот Армстронг</td>\n",
       "      <td>Адам Палли, Брайан Хаски, Дж.Б. Смув, Джейсон ...</td>\n",
       "      <td>Уморительная современная комедия на популярную...</td>\n",
       "      <td>Голые, перцы, 2014, США, друзья, свадьбы, прео...</td>\n",
       "    </tr>\n",
       "  </tbody>\n",
       "</table>\n",
       "</div>"
      ],
      "text/plain": [
       "   item_id content_type           title      title_orig  release_year  \\\n",
       "0    10711         film  Поговори с ней  Hable con ella        2002.0   \n",
       "1     2508         film     Голые перцы    Search Party        2014.0   \n",
       "\n",
       "                                    genres countries  for_kids  age_rating  \\\n",
       "0  драмы, зарубежные, детективы, мелодрамы   Испания       NaN        16.0   \n",
       "1         зарубежные, приключения, комедии       США       NaN        16.0   \n",
       "\n",
       "  studios         directors  \\\n",
       "0     NaN  Педро Альмодовар   \n",
       "1     NaN    Скот Армстронг   \n",
       "\n",
       "                                              actors  \\\n",
       "0  Адольфо Фернандес, Ана Фернандес, Дарио Гранди...   \n",
       "1  Адам Палли, Брайан Хаски, Дж.Б. Смув, Джейсон ...   \n",
       "\n",
       "                                         description  \\\n",
       "0  Мелодрама легендарного Педро Альмодовара «Пого...   \n",
       "1  Уморительная современная комедия на популярную...   \n",
       "\n",
       "                                            keywords  \n",
       "0  Поговори, ней, 2002, Испания, друзья, любовь, ...  \n",
       "1  Голые, перцы, 2014, США, друзья, свадьбы, прео...  "
      ]
     },
     "execution_count": 4,
     "metadata": {},
     "output_type": "execute_result"
    }
   ],
   "source": [
    "items_df.head(2)"
   ]
  },
  {
   "cell_type": "markdown",
   "id": "bd6ec505",
   "metadata": {},
   "source": [
    "## Какие есть признаки?\n",
    "\n",
    "1. `item_id` – индентификатор айтема, уникален для каждого\n",
    "2. `content_type` – категориальный признак, тип айтема (фильм, сериал и т.д.)\n",
    "3. `title` – Название на русском языке\n",
    "4. `title_orig` – Название на языке оригинала\n",
    "5. `release_year` – год выхода \n",
    "6. `genres` – список жанров (представлен строкой)\n",
    "7. `countries` – страна издания\n",
    "8. `for_kids` – предназначен для детей\n",
    "9. `age_rating` – возрастной рейтинг картины\n",
    "10. `studios` – студия, выпустившая картину\n",
    "11. `directors` – режиссер(ы)\n",
    "12. `actors` – актёры\n",
    "13. `description` – описание (на русском)\n",
    "14. `keywords` – ключевые слова, описывающие картину\n"
   ]
  },
  {
   "cell_type": "markdown",
   "id": "1f847f22",
   "metadata": {},
   "source": [
    "# Просмотры пользователей"
   ]
  },
  {
   "cell_type": "markdown",
   "id": "4e7bcab4",
   "metadata": {},
   "source": [
    "### Тренировачные данные"
   ]
  },
  {
   "cell_type": "code",
   "execution_count": 5,
   "id": "550ab814",
   "metadata": {},
   "outputs": [
    {
     "name": "stdout",
     "output_type": "stream",
     "text": [
      "Число тренировачных интеракций: 1,224,560\n"
     ]
    },
    {
     "data": {
      "text/html": [
       "<div>\n",
       "<style scoped>\n",
       "    .dataframe tbody tr th:only-of-type {\n",
       "        vertical-align: middle;\n",
       "    }\n",
       "\n",
       "    .dataframe tbody tr th {\n",
       "        vertical-align: top;\n",
       "    }\n",
       "\n",
       "    .dataframe thead th {\n",
       "        text-align: right;\n",
       "    }\n",
       "</style>\n",
       "<table border=\"1\" class=\"dataframe\">\n",
       "  <thead>\n",
       "    <tr style=\"text-align: right;\">\n",
       "      <th></th>\n",
       "      <th>user_id</th>\n",
       "      <th>item_id</th>\n",
       "      <th>last_watch_dt</th>\n",
       "      <th>total_dur</th>\n",
       "      <th>watched_pct</th>\n",
       "    </tr>\n",
       "  </thead>\n",
       "  <tbody>\n",
       "    <tr>\n",
       "      <th>0</th>\n",
       "      <td>176549</td>\n",
       "      <td>9506</td>\n",
       "      <td>2021-05-11</td>\n",
       "      <td>4250.0</td>\n",
       "      <td>72.0</td>\n",
       "    </tr>\n",
       "    <tr>\n",
       "      <th>1</th>\n",
       "      <td>699317</td>\n",
       "      <td>1659</td>\n",
       "      <td>2021-05-29</td>\n",
       "      <td>8317.0</td>\n",
       "      <td>100.0</td>\n",
       "    </tr>\n",
       "    <tr>\n",
       "      <th>2</th>\n",
       "      <td>656683</td>\n",
       "      <td>7107</td>\n",
       "      <td>2021-05-09</td>\n",
       "      <td>10.0</td>\n",
       "      <td>0.0</td>\n",
       "    </tr>\n",
       "    <tr>\n",
       "      <th>3</th>\n",
       "      <td>864613</td>\n",
       "      <td>7638</td>\n",
       "      <td>2021-07-05</td>\n",
       "      <td>14483.0</td>\n",
       "      <td>100.0</td>\n",
       "    </tr>\n",
       "    <tr>\n",
       "      <th>4</th>\n",
       "      <td>964868</td>\n",
       "      <td>9506</td>\n",
       "      <td>2021-04-30</td>\n",
       "      <td>6725.0</td>\n",
       "      <td>100.0</td>\n",
       "    </tr>\n",
       "  </tbody>\n",
       "</table>\n",
       "</div>"
      ],
      "text/plain": [
       "   user_id  item_id last_watch_dt  total_dur  watched_pct\n",
       "0   176549     9506    2021-05-11     4250.0         72.0\n",
       "1   699317     1659    2021-05-29     8317.0        100.0\n",
       "2   656683     7107    2021-05-09       10.0          0.0\n",
       "3   864613     7638    2021-07-05    14483.0        100.0\n",
       "4   964868     9506    2021-04-30     6725.0        100.0"
      ]
     },
     "execution_count": 5,
     "metadata": {},
     "output_type": "execute_result"
    }
   ],
   "source": [
    "print(f\"Число тренировачных интеракций: {len(train_part):,}\")\n",
    "train_part.head()"
   ]
  },
  {
   "cell_type": "markdown",
   "id": "468be7b9",
   "metadata": {},
   "source": [
    "### Тестовые данные"
   ]
  },
  {
   "cell_type": "code",
   "execution_count": 6,
   "id": "f8d7e2e4",
   "metadata": {},
   "outputs": [
    {
     "name": "stdout",
     "output_type": "stream",
     "text": [
      "Число тестовых пользователей: 18,693\n"
     ]
    },
    {
     "data": {
      "text/html": [
       "<div>\n",
       "<style scoped>\n",
       "    .dataframe tbody tr th:only-of-type {\n",
       "        vertical-align: middle;\n",
       "    }\n",
       "\n",
       "    .dataframe tbody tr th {\n",
       "        vertical-align: top;\n",
       "    }\n",
       "\n",
       "    .dataframe thead th {\n",
       "        text-align: right;\n",
       "    }\n",
       "</style>\n",
       "<table border=\"1\" class=\"dataframe\">\n",
       "  <thead>\n",
       "    <tr style=\"text-align: right;\">\n",
       "      <th></th>\n",
       "      <th>user_id</th>\n",
       "      <th>ground_truth</th>\n",
       "    </tr>\n",
       "  </thead>\n",
       "  <tbody>\n",
       "    <tr>\n",
       "      <th>0</th>\n",
       "      <td>30</td>\n",
       "      <td>[8584, 3031, 15363]</td>\n",
       "    </tr>\n",
       "    <tr>\n",
       "      <th>1</th>\n",
       "      <td>144</td>\n",
       "      <td>[3800, 11987, 10942]</td>\n",
       "    </tr>\n",
       "    <tr>\n",
       "      <th>2</th>\n",
       "      <td>241</td>\n",
       "      <td>[14841, 6162, 5808, 15266]</td>\n",
       "    </tr>\n",
       "    <tr>\n",
       "      <th>3</th>\n",
       "      <td>259</td>\n",
       "      <td>[16509, 10509, 4491, 5434, 4471, 10772, 817]</td>\n",
       "    </tr>\n",
       "    <tr>\n",
       "      <th>4</th>\n",
       "      <td>475</td>\n",
       "      <td>[6214, 3734, 6686]</td>\n",
       "    </tr>\n",
       "  </tbody>\n",
       "</table>\n",
       "</div>"
      ],
      "text/plain": [
       "   user_id                                  ground_truth\n",
       "0       30                           [8584, 3031, 15363]\n",
       "1      144                          [3800, 11987, 10942]\n",
       "2      241                    [14841, 6162, 5808, 15266]\n",
       "3      259  [16509, 10509, 4491, 5434, 4471, 10772, 817]\n",
       "4      475                            [6214, 3734, 6686]"
      ]
     },
     "execution_count": 6,
     "metadata": {},
     "output_type": "execute_result"
    }
   ],
   "source": [
    "print(f\"Число тестовых пользователей: {len(test_part):,}\")\n",
    "test_part.head()"
   ]
  },
  {
   "cell_type": "markdown",
   "id": "c1cbbff2",
   "metadata": {},
   "source": [
    "### Обратите внимание, что формат данных тестовой и тренировочной частей отличается. \n",
    "#### Это сделано для того, чтобы вы могли использовать дополнительную информацию в своих моделях, например такую как время просмотра (`total_dur`), процент просмотра(`watched_pct`), а так же дату последнего просмотра (`last_watch_dt`)\n",
    "#### При этом на тренировачных данных такой информации нет, так как мы не можем смотреть в будущее.     \n",
    "\n",
    "#### Тестовые данные также приведены в удобный для подсчета метрик вид."
   ]
  },
  {
   "cell_type": "markdown",
   "id": "116dca2a",
   "metadata": {},
   "source": [
    "# Метрики"
   ]
  },
  {
   "cell_type": "markdown",
   "id": "f6b8e6a6",
   "metadata": {},
   "source": [
    "#### Кратко расскажем про метрики, которые мы будем использовать для измерения качества наших моделей.  \n",
    "\n",
    "Мы будем смотреть всего на две метрики: **ndcg** и **recall**.  \n",
    "Все метрики измеряются до какой-то позиции, у нас это будет **10**. То есть мы отдаем 10 самых подходящих пользователю айтемов по мнению модели и говорим, что это и есть наши рекомендации, качество которых мы хотим оценить.  \n",
    "\n",
    "**ndcg** показывает, как модель справляется с задачей ранжирования, то есть ставит просмотренные айтемы выше непросмотренных\n",
    "**recall** показывает, как много релевантных айтемов модель выдаёт в топе (смысл как в задаче классификации)\n",
    "\n",
    "*Для обоих метрик лучше та, которая как можно ближе к **1.0***\n",
    "\n",
    "Не бойтесь, если вам сейчас что-то непонятно, подробнее про метрики мы расскажем на смене или можете почитать в интернете:)\n",
    "\n",
    "#### Ниже представлен код реализации, пожалуйста, не меняйте его!"
   ]
  },
  {
   "cell_type": "code",
   "execution_count": 7,
   "id": "862f37fa",
   "metadata": {},
   "outputs": [],
   "source": [
    "# ACHTUNG! DO NOT TOUCH \n",
    "\n",
    "def ndcg_metric(gt_items: np.ndarray, predicted: np.ndarray) -> float:\n",
    "    at = len(predicted)\n",
    "    relevance = np.array([1 if x in predicted else 0 for x in gt_items])\n",
    "    # DCG uses the relevance of the recommended items\n",
    "    rank_dcg = dcg(relevance)\n",
    "    if rank_dcg == 0.0:\n",
    "        return 0.0\n",
    "\n",
    "    # IDCG has all relevances to 1 (or the values provided), up to the number of items in the test set that can fit in the list length\n",
    "    ideal_dcg = dcg(np.sort(relevance)[::-1][:at])\n",
    "\n",
    "    if ideal_dcg == 0.0:\n",
    "        return 0.0\n",
    "\n",
    "    ndcg_ = rank_dcg / ideal_dcg\n",
    "\n",
    "    return ndcg_\n",
    "\n",
    "\n",
    "def dcg(scores: np.ndarray) -> float:\n",
    "    return np.sum(\n",
    "        np.divide(np.power(2, scores) - 1, np.log2(np.arange(scores.shape[0], dtype=np.float64) + 2)), dtype=np.float64\n",
    "    )\n",
    "\n",
    "\n",
    "def recall_metric(gt_items: np.ndarray, predicted: np.ndarray) -> float:\n",
    "    n_gt = len(gt_items)\n",
    "    intersection = len(set(gt_items).intersection(set(predicted)))\n",
    "    return intersection / n_gt\n",
    "\n",
    "\n",
    "def evaluate_recommender(df: pd.DataFrame, model_preds_col: str, gt_col: str = \"ground_truth\") -> Dict[str, float]:\n",
    "    metric_values = []\n",
    "\n",
    "    for _, row in df.iterrows():\n",
    "        metric_values.append(\n",
    "            (ndcg_metric(row[gt_col], row[model_preds_col]), recall_metric(row[gt_col], row[model_preds_col]))\n",
    "        )\n",
    "\n",
    "    return {\"ndcg\": np.mean([x[0] for x in metric_values]), \"recall\": np.mean([x[1] for x in metric_values])}"
   ]
  },
  {
   "cell_type": "markdown",
   "id": "f3a653e1",
   "metadata": {},
   "source": [
    "#### Класс, от которого стоит наследовать все ваши модели, чтобы эксперименты было проще проводить"
   ]
  },
  {
   "cell_type": "code",
   "execution_count": 8,
   "id": "50d66b8e-3ae7-4080-bfd7-a6bfbc4919fd",
   "metadata": {},
   "outputs": [],
   "source": [
    "class BaseRecommender(ABC):\n",
    "    def __init__(self):\n",
    "        self.trained = False\n",
    "\n",
    "    @abstractmethod\n",
    "    def fit(self, df: pd.DataFrame) -> None:\n",
    "        # реализация может быть любой, никаких ограничений\n",
    "\n",
    "        # не забудьте про\n",
    "        self.trained = True\n",
    "\n",
    "    @abstractmethod\n",
    "    def predict(self, df: pd.DataFrame, topn: int = 10) -> List[np.ndarray]:\n",
    "        # реализация может быть любой, НО\n",
    "        # должен возвращать список массивов из item_id, которые есть в `item_df`, чтобы корректно работал подсчет метрик\n",
    "        pass"
   ]
  },
  {
   "cell_type": "code",
   "execution_count": null,
   "id": "3ef1db2b",
   "metadata": {},
   "outputs": [],
   "source": []
  },
  {
   "cell_type": "markdown",
   "id": "bac3f892",
   "metadata": {},
   "source": [
    "# Начнем с предобработки данных"
   ]
  },
  {
   "cell_type": "code",
   "execution_count": 9,
   "id": "7432299b",
   "metadata": {},
   "outputs": [
    {
     "data": {
      "text/plain": [
       "user_id        0\n",
       "age         3582\n",
       "income      3349\n",
       "sex         4061\n",
       "kids_flg       0\n",
       "dtype: int64"
      ]
     },
     "execution_count": 9,
     "metadata": {},
     "output_type": "execute_result"
    }
   ],
   "source": [
    "users_df.isnull().sum()"
   ]
  },
  {
   "cell_type": "code",
   "execution_count": 10,
   "id": "37f414e0",
   "metadata": {},
   "outputs": [
    {
     "data": {
      "text/plain": [
       "user_id     0\n",
       "age         0\n",
       "income      0\n",
       "sex         0\n",
       "kids_flg    0\n",
       "dtype: int64"
      ]
     },
     "execution_count": 10,
     "metadata": {},
     "output_type": "execute_result"
    }
   ],
   "source": [
    "users_df.loc[users_df.age.isna(), 'age'] = 'age_unknown'\n",
    "users_df.loc[users_df.income.isna(), 'income'] = 'income_unknown'\n",
    "users_df.loc[users_df.sex.isna(), 'sex'] = 'sex_unknown'\n",
    "\n",
    "users_df.isnull().sum()"
   ]
  },
  {
   "cell_type": "markdown",
   "id": "a5238eb3",
   "metadata": {},
   "source": [
    "Пропуски готовы, теперь приведем типы данных"
   ]
  },
  {
   "cell_type": "code",
   "execution_count": 11,
   "id": "a60e4fb6",
   "metadata": {},
   "outputs": [
    {
     "name": "stdout",
     "output_type": "stream",
     "text": [
      "<class 'pandas.core.frame.DataFrame'>\n",
      "RangeIndex: 366088 entries, 0 to 366087\n",
      "Data columns (total 5 columns):\n",
      " #   Column    Non-Null Count   Dtype   \n",
      "---  ------    --------------   -----   \n",
      " 0   user_id   366088 non-null  int64   \n",
      " 1   age       366088 non-null  category\n",
      " 2   income    366088 non-null  category\n",
      " 3   sex       366088 non-null  category\n",
      " 4   kids_flg  366088 non-null  bool    \n",
      "dtypes: bool(1), category(3), int64(1)\n",
      "memory usage: 4.2 MB\n"
     ]
    }
   ],
   "source": [
    "users_df['sex'] = users_df['sex'].astype('category')\n",
    "users_df['age'] = users_df['age'].astype('category')\n",
    "users_df['income'] = users_df['income'].astype('category')\n",
    "users_df['kids_flg'] = users_df['kids_flg'].astype('bool')\n",
    "\n",
    "users_df.info()"
   ]
  },
  {
   "cell_type": "code",
   "execution_count": 12,
   "id": "3335c3a8",
   "metadata": {},
   "outputs": [
    {
     "data": {
      "image/png": "[encoded data removed]",
      "text/plain": [
       "<Figure size 1600x400 with 4 Axes>"
      ]
     },
     "metadata": {},
     "output_type": "display_data"
    }
   ],
   "source": [
    "fig, axes = plt.subplots(nrows=1, ncols=4, sharey=True, figsize=(16,4))\n",
    "\n",
    "# кол-во пользователей по возрастным группам\n",
    "users_df.age.value_counts().plot.bar(ax=axes[0])\n",
    "\n",
    "# кол-во пользователей по уровню дохода\n",
    "users_df.income.value_counts().plot.bar(ax=axes[1])\n",
    "\n",
    "# кол-во пользователей по полу\n",
    "users_df.sex.value_counts().plot.bar(ax=axes[2])\n",
    "\n",
    "# кол-во пользователей без детей и с детьми\n",
    "users_df.kids_flg.value_counts().plot.bar(ax=axes[3])\n",
    "\n",
    "plt.show()"
   ]
  },
  {
   "cell_type": "markdown",
   "id": "888fc1cb",
   "metadata": {},
   "source": [
    "Небольшие выводы из графиков\n",
    "- Основные клиенты сервиса - люди в возврастном промежутке 25-34 и 35-44 года\n",
    "- Так же большая часть клиентов имеет доход от 20 до 40 т.р.\n",
    "- Распределение по полу +- 50 на 50\n",
    "- Бездетных пользователей примерно в 2 раза больше чем пользователей с детьми"
   ]
  },
  {
   "cell_type": "code",
   "execution_count": 13,
   "id": "e4a285f3",
   "metadata": {},
   "outputs": [
    {
     "data": {
      "text/plain": [
       "0"
      ]
     },
     "execution_count": 13,
     "metadata": {},
     "output_type": "execute_result"
    }
   ],
   "source": [
    "# Небольшая проверка на дубликаты\n",
    "users_df.duplicated(subset=['user_id']).sum()"
   ]
  },
  {
   "cell_type": "markdown",
   "id": "7ba1729a",
   "metadata": {},
   "source": [
    "Добавим новые категориальные фичи: возраст_пол, доход_пол, возраст_доход"
   ]
  },
  {
   "cell_type": "code",
   "execution_count": 14,
   "id": "3c8a3533",
   "metadata": {},
   "outputs": [],
   "source": [
    "users_df['age_sex'] = (users_df['age'].astype(str) + '_' + users_df['sex'].astype(str)).astype('category')\n",
    "users_df['income_sex'] = (users_df['income'].astype(str) + '_' + users_df['sex'].astype(str)).astype('category')\n",
    "users_df['age_income'] = (users_df['age'].astype(str) + '_' + users_df['income'].astype(str)).astype('category')"
   ]
  },
  {
   "cell_type": "markdown",
   "id": "62e8eb1d",
   "metadata": {},
   "source": [
    "Добавим общее количество просмотров для каждого пользователя и средний процент просмотра"
   ]
  },
  {
   "cell_type": "code",
   "execution_count": 15,
   "id": "28776312",
   "metadata": {},
   "outputs": [],
   "source": [
    "grouped_data = train_part.groupby(['user_id']).agg({'item_id':'count', 'watched_pct':'mean'})\n",
    "grouped_data = grouped_data.rename(columns={'item_id': 'nwatched', 'watched_pct': 'mean_watched_pct'})\n",
    "users_df = users_df.merge(grouped_data, how='left', on='user_id')\n",
    "users_df = users_df.fillna(0)"
   ]
  },
  {
   "cell_type": "code",
   "execution_count": null,
   "id": "eb2026e8",
   "metadata": {},
   "outputs": [],
   "source": []
  },
  {
   "cell_type": "code",
   "execution_count": 16,
   "id": "607f9291",
   "metadata": {},
   "outputs": [
    {
     "data": {
      "text/html": [
       "<div>\n",
       "<style scoped>\n",
       "    .dataframe tbody tr th:only-of-type {\n",
       "        vertical-align: middle;\n",
       "    }\n",
       "\n",
       "    .dataframe tbody tr th {\n",
       "        vertical-align: top;\n",
       "    }\n",
       "\n",
       "    .dataframe thead th {\n",
       "        text-align: right;\n",
       "    }\n",
       "</style>\n",
       "<table border=\"1\" class=\"dataframe\">\n",
       "  <thead>\n",
       "    <tr style=\"text-align: right;\">\n",
       "      <th></th>\n",
       "      <th>user_id</th>\n",
       "      <th>age</th>\n",
       "      <th>income</th>\n",
       "      <th>sex</th>\n",
       "      <th>kids_flg</th>\n",
       "      <th>age_sex</th>\n",
       "      <th>income_sex</th>\n",
       "      <th>age_income</th>\n",
       "      <th>nwatched</th>\n",
       "      <th>mean_watched_pct</th>\n",
       "    </tr>\n",
       "  </thead>\n",
       "  <tbody>\n",
       "    <tr>\n",
       "      <th>0</th>\n",
       "      <td>973171</td>\n",
       "      <td>age_25_34</td>\n",
       "      <td>income_60_90</td>\n",
       "      <td>М</td>\n",
       "      <td>True</td>\n",
       "      <td>age_25_34_М</td>\n",
       "      <td>income_60_90_М</td>\n",
       "      <td>age_25_34_income_60_90</td>\n",
       "      <td>3</td>\n",
       "      <td>68.333333</td>\n",
       "    </tr>\n",
       "    <tr>\n",
       "      <th>1</th>\n",
       "      <td>962099</td>\n",
       "      <td>age_18_24</td>\n",
       "      <td>income_20_40</td>\n",
       "      <td>М</td>\n",
       "      <td>False</td>\n",
       "      <td>age_18_24_М</td>\n",
       "      <td>income_20_40_М</td>\n",
       "      <td>age_18_24_income_20_40</td>\n",
       "      <td>6</td>\n",
       "      <td>49.500000</td>\n",
       "    </tr>\n",
       "    <tr>\n",
       "      <th>2</th>\n",
       "      <td>721985</td>\n",
       "      <td>age_45_54</td>\n",
       "      <td>income_20_40</td>\n",
       "      <td>Ж</td>\n",
       "      <td>False</td>\n",
       "      <td>age_45_54_Ж</td>\n",
       "      <td>income_20_40_Ж</td>\n",
       "      <td>age_45_54_income_20_40</td>\n",
       "      <td>6</td>\n",
       "      <td>53.000000</td>\n",
       "    </tr>\n",
       "    <tr>\n",
       "      <th>3</th>\n",
       "      <td>704055</td>\n",
       "      <td>age_35_44</td>\n",
       "      <td>income_60_90</td>\n",
       "      <td>Ж</td>\n",
       "      <td>False</td>\n",
       "      <td>age_35_44_Ж</td>\n",
       "      <td>income_60_90_Ж</td>\n",
       "      <td>age_35_44_income_60_90</td>\n",
       "      <td>3</td>\n",
       "      <td>5.333333</td>\n",
       "    </tr>\n",
       "    <tr>\n",
       "      <th>4</th>\n",
       "      <td>846063</td>\n",
       "      <td>age_35_44</td>\n",
       "      <td>income_40_60</td>\n",
       "      <td>Ж</td>\n",
       "      <td>True</td>\n",
       "      <td>age_35_44_Ж</td>\n",
       "      <td>income_40_60_Ж</td>\n",
       "      <td>age_35_44_income_40_60</td>\n",
       "      <td>1</td>\n",
       "      <td>50.000000</td>\n",
       "    </tr>\n",
       "    <tr>\n",
       "      <th>...</th>\n",
       "      <td>...</td>\n",
       "      <td>...</td>\n",
       "      <td>...</td>\n",
       "      <td>...</td>\n",
       "      <td>...</td>\n",
       "      <td>...</td>\n",
       "      <td>...</td>\n",
       "      <td>...</td>\n",
       "      <td>...</td>\n",
       "      <td>...</td>\n",
       "    </tr>\n",
       "    <tr>\n",
       "      <th>366083</th>\n",
       "      <td>848247</td>\n",
       "      <td>age_18_24</td>\n",
       "      <td>income_20_40</td>\n",
       "      <td>Ж</td>\n",
       "      <td>False</td>\n",
       "      <td>age_18_24_Ж</td>\n",
       "      <td>income_20_40_Ж</td>\n",
       "      <td>age_18_24_income_20_40</td>\n",
       "      <td>2</td>\n",
       "      <td>3.500000</td>\n",
       "    </tr>\n",
       "    <tr>\n",
       "      <th>366084</th>\n",
       "      <td>950528</td>\n",
       "      <td>age_35_44</td>\n",
       "      <td>income_20_40</td>\n",
       "      <td>М</td>\n",
       "      <td>True</td>\n",
       "      <td>age_35_44_М</td>\n",
       "      <td>income_20_40_М</td>\n",
       "      <td>age_35_44_income_20_40</td>\n",
       "      <td>1</td>\n",
       "      <td>13.000000</td>\n",
       "    </tr>\n",
       "    <tr>\n",
       "      <th>366085</th>\n",
       "      <td>1021167</td>\n",
       "      <td>age_65_inf</td>\n",
       "      <td>income_20_40</td>\n",
       "      <td>Ж</td>\n",
       "      <td>False</td>\n",
       "      <td>age_65_inf_Ж</td>\n",
       "      <td>income_20_40_Ж</td>\n",
       "      <td>age_65_inf_income_20_40</td>\n",
       "      <td>1</td>\n",
       "      <td>0.000000</td>\n",
       "    </tr>\n",
       "    <tr>\n",
       "      <th>366086</th>\n",
       "      <td>312839</td>\n",
       "      <td>age_65_inf</td>\n",
       "      <td>income_60_90</td>\n",
       "      <td>Ж</td>\n",
       "      <td>False</td>\n",
       "      <td>age_65_inf_Ж</td>\n",
       "      <td>income_60_90_Ж</td>\n",
       "      <td>age_65_inf_income_60_90</td>\n",
       "      <td>1</td>\n",
       "      <td>2.000000</td>\n",
       "    </tr>\n",
       "    <tr>\n",
       "      <th>366087</th>\n",
       "      <td>191349</td>\n",
       "      <td>age_45_54</td>\n",
       "      <td>income_40_60</td>\n",
       "      <td>М</td>\n",
       "      <td>True</td>\n",
       "      <td>age_45_54_М</td>\n",
       "      <td>income_40_60_М</td>\n",
       "      <td>age_45_54_income_40_60</td>\n",
       "      <td>1</td>\n",
       "      <td>57.000000</td>\n",
       "    </tr>\n",
       "  </tbody>\n",
       "</table>\n",
       "<p>366088 rows × 10 columns</p>\n",
       "</div>"
      ],
      "text/plain": [
       "        user_id         age        income sex  kids_flg       age_sex  \\\n",
       "0        973171   age_25_34  income_60_90   М      True   age_25_34_М   \n",
       "1        962099   age_18_24  income_20_40   М     False   age_18_24_М   \n",
       "2        721985   age_45_54  income_20_40   Ж     False   age_45_54_Ж   \n",
       "3        704055   age_35_44  income_60_90   Ж     False   age_35_44_Ж   \n",
       "4        846063   age_35_44  income_40_60   Ж      True   age_35_44_Ж   \n",
       "...         ...         ...           ...  ..       ...           ...   \n",
       "366083   848247   age_18_24  income_20_40   Ж     False   age_18_24_Ж   \n",
       "366084   950528   age_35_44  income_20_40   М      True   age_35_44_М   \n",
       "366085  1021167  age_65_inf  income_20_40   Ж     False  age_65_inf_Ж   \n",
       "366086   312839  age_65_inf  income_60_90   Ж     False  age_65_inf_Ж   \n",
       "366087   191349   age_45_54  income_40_60   М      True   age_45_54_М   \n",
       "\n",
       "            income_sex               age_income  nwatched  mean_watched_pct  \n",
       "0       income_60_90_М   age_25_34_income_60_90         3         68.333333  \n",
       "1       income_20_40_М   age_18_24_income_20_40         6         49.500000  \n",
       "2       income_20_40_Ж   age_45_54_income_20_40         6         53.000000  \n",
       "3       income_60_90_Ж   age_35_44_income_60_90         3          5.333333  \n",
       "4       income_40_60_Ж   age_35_44_income_40_60         1         50.000000  \n",
       "...                ...                      ...       ...               ...  \n",
       "366083  income_20_40_Ж   age_18_24_income_20_40         2          3.500000  \n",
       "366084  income_20_40_М   age_35_44_income_20_40         1         13.000000  \n",
       "366085  income_20_40_Ж  age_65_inf_income_20_40         1          0.000000  \n",
       "366086  income_60_90_Ж  age_65_inf_income_60_90         1          2.000000  \n",
       "366087  income_40_60_М   age_45_54_income_40_60         1         57.000000  \n",
       "\n",
       "[366088 rows x 10 columns]"
      ]
     },
     "execution_count": 16,
     "metadata": {},
     "output_type": "execute_result"
    }
   ],
   "source": [
    "users_df"
   ]
  },
  {
   "cell_type": "code",
   "execution_count": 17,
   "id": "d6904ab1",
   "metadata": {},
   "outputs": [
    {
     "name": "stdout",
     "output_type": "stream",
     "text": [
      "<class 'pandas.core.frame.DataFrame'>\n",
      "Int64Index: 366088 entries, 0 to 366087\n",
      "Data columns (total 10 columns):\n",
      " #   Column            Non-Null Count   Dtype   \n",
      "---  ------            --------------   -----   \n",
      " 0   user_id           366088 non-null  int64   \n",
      " 1   age               366088 non-null  category\n",
      " 2   income            366088 non-null  category\n",
      " 3   sex               366088 non-null  category\n",
      " 4   kids_flg          366088 non-null  bool    \n",
      " 5   age_sex           366088 non-null  category\n",
      " 6   income_sex        366088 non-null  category\n",
      " 7   age_income        366088 non-null  category\n",
      " 8   nwatched          366088 non-null  int64   \n",
      " 9   mean_watched_pct  366088 non-null  float64 \n",
      "dtypes: bool(1), category(6), float64(1), int64(2)\n",
      "memory usage: 13.6 MB\n"
     ]
    }
   ],
   "source": [
    "users_df.info()"
   ]
  },
  {
   "cell_type": "code",
   "execution_count": null,
   "id": "7c037c3c",
   "metadata": {},
   "outputs": [],
   "source": []
  },
  {
   "cell_type": "code",
   "execution_count": null,
   "id": "47679694",
   "metadata": {},
   "outputs": [],
   "source": []
  },
  {
   "cell_type": "code",
   "execution_count": null,
   "id": "0ccabe15",
   "metadata": {},
   "outputs": [],
   "source": []
  },
  {
   "cell_type": "code",
   "execution_count": null,
   "id": "2f81ab89",
   "metadata": {},
   "outputs": [],
   "source": []
  },
  {
   "cell_type": "markdown",
   "id": "b4e393e4",
   "metadata": {},
   "source": [
    "# Перейдем к фильмам items"
   ]
  },
  {
   "cell_type": "code",
   "execution_count": 18,
   "id": "593d4fc5",
   "metadata": {},
   "outputs": [
    {
     "data": {
      "text/html": [
       "<div>\n",
       "<style scoped>\n",
       "    .dataframe tbody tr th:only-of-type {\n",
       "        vertical-align: middle;\n",
       "    }\n",
       "\n",
       "    .dataframe tbody tr th {\n",
       "        vertical-align: top;\n",
       "    }\n",
       "\n",
       "    .dataframe thead th {\n",
       "        text-align: right;\n",
       "    }\n",
       "</style>\n",
       "<table border=\"1\" class=\"dataframe\">\n",
       "  <thead>\n",
       "    <tr style=\"text-align: right;\">\n",
       "      <th></th>\n",
       "      <th>item_id</th>\n",
       "      <th>content_type</th>\n",
       "      <th>title</th>\n",
       "      <th>title_orig</th>\n",
       "      <th>release_year</th>\n",
       "      <th>genres</th>\n",
       "      <th>countries</th>\n",
       "      <th>for_kids</th>\n",
       "      <th>age_rating</th>\n",
       "      <th>studios</th>\n",
       "      <th>directors</th>\n",
       "      <th>actors</th>\n",
       "      <th>description</th>\n",
       "      <th>keywords</th>\n",
       "    </tr>\n",
       "  </thead>\n",
       "  <tbody>\n",
       "    <tr>\n",
       "      <th>0</th>\n",
       "      <td>10711</td>\n",
       "      <td>film</td>\n",
       "      <td>Поговори с ней</td>\n",
       "      <td>Hable con ella</td>\n",
       "      <td>2002.0</td>\n",
       "      <td>драмы, зарубежные, детективы, мелодрамы</td>\n",
       "      <td>Испания</td>\n",
       "      <td>NaN</td>\n",
       "      <td>16.0</td>\n",
       "      <td>NaN</td>\n",
       "      <td>Педро Альмодовар</td>\n",
       "      <td>Адольфо Фернандес, Ана Фернандес, Дарио Гранди...</td>\n",
       "      <td>Мелодрама легендарного Педро Альмодовара «Пого...</td>\n",
       "      <td>Поговори, ней, 2002, Испания, друзья, любовь, ...</td>\n",
       "    </tr>\n",
       "    <tr>\n",
       "      <th>1</th>\n",
       "      <td>2508</td>\n",
       "      <td>film</td>\n",
       "      <td>Голые перцы</td>\n",
       "      <td>Search Party</td>\n",
       "      <td>2014.0</td>\n",
       "      <td>зарубежные, приключения, комедии</td>\n",
       "      <td>США</td>\n",
       "      <td>NaN</td>\n",
       "      <td>16.0</td>\n",
       "      <td>NaN</td>\n",
       "      <td>Скот Армстронг</td>\n",
       "      <td>Адам Палли, Брайан Хаски, Дж.Б. Смув, Джейсон ...</td>\n",
       "      <td>Уморительная современная комедия на популярную...</td>\n",
       "      <td>Голые, перцы, 2014, США, друзья, свадьбы, прео...</td>\n",
       "    </tr>\n",
       "    <tr>\n",
       "      <th>2</th>\n",
       "      <td>10716</td>\n",
       "      <td>film</td>\n",
       "      <td>Тактическая сила</td>\n",
       "      <td>Tactical Force</td>\n",
       "      <td>2011.0</td>\n",
       "      <td>криминал, зарубежные, триллеры, боевики, комедии</td>\n",
       "      <td>Канада</td>\n",
       "      <td>NaN</td>\n",
       "      <td>16.0</td>\n",
       "      <td>NaN</td>\n",
       "      <td>Адам П. Калтраро</td>\n",
       "      <td>Адриан Холмс, Даррен Шалави, Джерри Вассерман,...</td>\n",
       "      <td>Профессиональный рестлер Стив Остин («Все или ...</td>\n",
       "      <td>Тактическая, сила, 2011, Канада, бандиты, ганг...</td>\n",
       "    </tr>\n",
       "    <tr>\n",
       "      <th>3</th>\n",
       "      <td>7868</td>\n",
       "      <td>film</td>\n",
       "      <td>45 лет</td>\n",
       "      <td>45 Years</td>\n",
       "      <td>2015.0</td>\n",
       "      <td>драмы, зарубежные, мелодрамы</td>\n",
       "      <td>Великобритания</td>\n",
       "      <td>NaN</td>\n",
       "      <td>16.0</td>\n",
       "      <td>NaN</td>\n",
       "      <td>Эндрю Хэй</td>\n",
       "      <td>Александра Риддлстон-Барретт, Джеральдин Джейм...</td>\n",
       "      <td>Шарлотта Рэмплинг, Том Кортни, Джеральдин Джей...</td>\n",
       "      <td>45, лет, 2015, Великобритания, брак, жизнь, лю...</td>\n",
       "    </tr>\n",
       "    <tr>\n",
       "      <th>4</th>\n",
       "      <td>11114</td>\n",
       "      <td>film</td>\n",
       "      <td>Принцесса Лебедь: Пират или принцесса</td>\n",
       "      <td>The Swan Princess: Princess Tomorrow, Pirate T...</td>\n",
       "      <td>2016.0</td>\n",
       "      <td>для детей, сказки, полнометражные, зарубежные,...</td>\n",
       "      <td>США</td>\n",
       "      <td>NaN</td>\n",
       "      <td>6.0</td>\n",
       "      <td>Sony Pictures</td>\n",
       "      <td>Ричард Рич</td>\n",
       "      <td>Брайан Ниссен, Гарднер Джаэс, Грант Дураззо, Д...</td>\n",
       "      <td>Анимационная сказка о непоседливой принцессе Э...</td>\n",
       "      <td>Принцесса, Лебедь, Пират, или, принцесса, 2016...</td>\n",
       "    </tr>\n",
       "  </tbody>\n",
       "</table>\n",
       "</div>"
      ],
      "text/plain": [
       "   item_id content_type                                  title  \\\n",
       "0    10711         film                         Поговори с ней   \n",
       "1     2508         film                            Голые перцы   \n",
       "2    10716         film                       Тактическая сила   \n",
       "3     7868         film                                 45 лет   \n",
       "4    11114         film  Принцесса Лебедь: Пират или принцесса   \n",
       "\n",
       "                                          title_orig  release_year  \\\n",
       "0                                     Hable con ella        2002.0   \n",
       "1                                       Search Party        2014.0   \n",
       "2                                     Tactical Force        2011.0   \n",
       "3                                           45 Years        2015.0   \n",
       "4  The Swan Princess: Princess Tomorrow, Pirate T...        2016.0   \n",
       "\n",
       "                                              genres       countries  \\\n",
       "0            драмы, зарубежные, детективы, мелодрамы         Испания   \n",
       "1                   зарубежные, приключения, комедии             США   \n",
       "2   криминал, зарубежные, триллеры, боевики, комедии          Канада   \n",
       "3                       драмы, зарубежные, мелодрамы  Великобритания   \n",
       "4  для детей, сказки, полнометражные, зарубежные,...             США   \n",
       "\n",
       "   for_kids  age_rating        studios         directors  \\\n",
       "0       NaN        16.0            NaN  Педро Альмодовар   \n",
       "1       NaN        16.0            NaN    Скот Армстронг   \n",
       "2       NaN        16.0            NaN  Адам П. Калтраро   \n",
       "3       NaN        16.0            NaN         Эндрю Хэй   \n",
       "4       NaN         6.0  Sony Pictures        Ричард Рич   \n",
       "\n",
       "                                              actors  \\\n",
       "0  Адольфо Фернандес, Ана Фернандес, Дарио Гранди...   \n",
       "1  Адам Палли, Брайан Хаски, Дж.Б. Смув, Джейсон ...   \n",
       "2  Адриан Холмс, Даррен Шалави, Джерри Вассерман,...   \n",
       "3  Александра Риддлстон-Барретт, Джеральдин Джейм...   \n",
       "4  Брайан Ниссен, Гарднер Джаэс, Грант Дураззо, Д...   \n",
       "\n",
       "                                         description  \\\n",
       "0  Мелодрама легендарного Педро Альмодовара «Пого...   \n",
       "1  Уморительная современная комедия на популярную...   \n",
       "2  Профессиональный рестлер Стив Остин («Все или ...   \n",
       "3  Шарлотта Рэмплинг, Том Кортни, Джеральдин Джей...   \n",
       "4  Анимационная сказка о непоседливой принцессе Э...   \n",
       "\n",
       "                                            keywords  \n",
       "0  Поговори, ней, 2002, Испания, друзья, любовь, ...  \n",
       "1  Голые, перцы, 2014, США, друзья, свадьбы, прео...  \n",
       "2  Тактическая, сила, 2011, Канада, бандиты, ганг...  \n",
       "3  45, лет, 2015, Великобритания, брак, жизнь, лю...  \n",
       "4  Принцесса, Лебедь, Пират, или, принцесса, 2016...  "
      ]
     },
     "execution_count": 18,
     "metadata": {},
     "output_type": "execute_result"
    }
   ],
   "source": [
    "items_df.head()"
   ]
  },
  {
   "cell_type": "code",
   "execution_count": 19,
   "id": "f9864a31",
   "metadata": {},
   "outputs": [
    {
     "name": "stdout",
     "output_type": "stream",
     "text": [
      "<class 'pandas.core.frame.DataFrame'>\n",
      "RangeIndex: 12067 entries, 0 to 12066\n",
      "Data columns (total 14 columns):\n",
      " #   Column        Non-Null Count  Dtype  \n",
      "---  ------        --------------  -----  \n",
      " 0   item_id       12067 non-null  int64  \n",
      " 1   content_type  12067 non-null  object \n",
      " 2   title         12067 non-null  object \n",
      " 3   title_orig    9144 non-null   object \n",
      " 4   release_year  12019 non-null  float64\n",
      " 5   genres        12067 non-null  object \n",
      " 6   countries     12051 non-null  object \n",
      " 7   for_kids      528 non-null    float64\n",
      " 8   age_rating    12066 non-null  float64\n",
      " 9   studios       749 non-null    object \n",
      " 10  directors     11160 non-null  object \n",
      " 11  actors        10268 non-null  object \n",
      " 12  description   12066 non-null  object \n",
      " 13  keywords      11705 non-null  object \n",
      "dtypes: float64(3), int64(1), object(10)\n",
      "memory usage: 1.3+ MB\n",
      "None\n",
      "item_id         12067\n",
      "content_type        2\n",
      "title           11621\n",
      "title_orig       8675\n",
      "release_year      102\n",
      "genres           2312\n",
      "countries         636\n",
      "for_kids            2\n",
      "age_rating          6\n",
      "studios            37\n",
      "directors        6576\n",
      "actors          10039\n",
      "description     11819\n",
      "keywords        11663\n",
      "dtype: int64\n",
      "\n",
      "\n",
      "Missed values\n",
      "item_id             0\n",
      "content_type        0\n",
      "title               0\n",
      "title_orig       2923\n",
      "release_year       48\n",
      "genres              0\n",
      "countries          16\n",
      "for_kids        11539\n",
      "age_rating          1\n",
      "studios         11318\n",
      "directors         907\n",
      "actors           1799\n",
      "description         1\n",
      "keywords          362\n",
      "dtype: int64\n"
     ]
    }
   ],
   "source": [
    "# Беглый осмотр данных\n",
    "print(items_df.info())\n",
    "print(items_df.nunique())\n",
    "print()\n",
    "print()\n",
    "print('Missed values')\n",
    "print(items_df.isnull().sum())"
   ]
  },
  {
   "cell_type": "markdown",
   "id": "b00bef99",
   "metadata": {},
   "source": [
    "**content_type**"
   ]
  },
  {
   "cell_type": "code",
   "execution_count": 20,
   "id": "8ec06b32",
   "metadata": {},
   "outputs": [
    {
     "data": {
      "text/plain": [
       "<Axes: >"
      ]
     },
     "execution_count": 20,
     "metadata": {},
     "output_type": "execute_result"
    },
    {
     "data": {
      "image/png": "[encoded data removed]",
      "text/plain": [
       "<Figure size 200x200 with 1 Axes>"
      ]
     },
     "metadata": {},
     "output_type": "display_data"
    }
   ],
   "source": [
    "items_df.content_type = items_df.content_type.astype('category')\n",
    "items_df.content_type.value_counts().plot.bar(figsize=(2,2))"
   ]
  },
  {
   "cell_type": "markdown",
   "id": "b7830d1a",
   "metadata": {},
   "source": [
    "Большая часть контента - фильмы. Пропусков нет\n",
    "\n",
    "**title title_orig**\n",
    "\n",
    "В title_orig 2923 пропусков, когда колонка title без пропусков.\n",
    "Скорее всего это связано с тем, что на платформе довольно много российских фильмов, которые имеют только title (без версии для зарубежного рынка)"
   ]
  },
  {
   "cell_type": "code",
   "execution_count": 21,
   "id": "98abbaa5",
   "metadata": {},
   "outputs": [
    {
     "data": {
      "text/plain": [
       "0"
      ]
     },
     "execution_count": 21,
     "metadata": {},
     "output_type": "execute_result"
    }
   ],
   "source": [
    "items_df.loc[items_df.title_orig.isna(), 'title_orig'] = 'None_title_orig'\n",
    "items_df.title_orig.isna().sum()"
   ]
  },
  {
   "cell_type": "code",
   "execution_count": 22,
   "id": "8997c082",
   "metadata": {},
   "outputs": [],
   "source": [
    "# Приведем к нужному типу и переведем весь текст к нижнему регистру\n",
    "items_df.title = items_df.title.astype('category')\n",
    "items_df.title_orig = items_df.title_orig.astype('category')\n",
    "items_df.title = items_df.title.str.lower()"
   ]
  },
  {
   "cell_type": "markdown",
   "id": "ff3f2f17",
   "metadata": {},
   "source": [
    "**release_year**"
   ]
  },
  {
   "cell_type": "code",
   "execution_count": 23,
   "id": "802c1adb",
   "metadata": {},
   "outputs": [
    {
     "data": {
      "text/plain": [
       "<Axes: >"
      ]
     },
     "execution_count": 23,
     "metadata": {},
     "output_type": "execute_result"
    },
    {
     "data": {
      "image/png": "[encoded data removed]",
      "text/plain": [
       "<Figure size 1800x400 with 1 Axes>"
      ]
     },
     "metadata": {},
     "output_type": "display_data"
    }
   ],
   "source": [
    "# кол-во контента по годам выпуска\n",
    "items_df.release_year.value_counts().sort_index().plot.bar(figsize=(18,4))"
   ]
  },
  {
   "cell_type": "code",
   "execution_count": 24,
   "id": "6dc235a3",
   "metadata": {},
   "outputs": [
    {
     "data": {
      "text/plain": [
       "0"
      ]
     },
     "execution_count": 24,
     "metadata": {},
     "output_type": "execute_result"
    }
   ],
   "source": [
    "# В колонке присутствуют 48 пропусков, заполним их\n",
    "items_df.loc[items_df.release_year.isna(), 'release_year'] = 2020\n",
    "items_df.release_year = items_df.release_year.astype(int)\n",
    "items_df.release_year.isna().sum()"
   ]
  },
  {
   "cell_type": "code",
   "execution_count": 25,
   "id": "98519cac",
   "metadata": {},
   "outputs": [],
   "source": [
    "# Выделим отдельную фичу decade. Она будет отвечать в какое десятилетие выпущен фильм\n",
    "# Будем брать как расстояние от 2000 года. Наприме 1990 - (-1), 2009 - 0, 2010 - 1, 2020 - 2\n",
    "\n",
    "def decade(years)-> list:\n",
    "    decs = []\n",
    "    for year in years:\n",
    "        if year == 'release_year_unknown':\n",
    "            decs.append(-10)\n",
    "        elif int(year) > 2000:\n",
    "            decs.append(int(year)%2000//10)\n",
    "        else:\n",
    "            decs.append((int(year)-2000)//10)\n",
    "            \n",
    "    return decs\n",
    "            \n",
    "items_df['decade'] = decade(items_df.release_year)\n"
   ]
  },
  {
   "cell_type": "markdown",
   "id": "0189fc42",
   "metadata": {},
   "source": [
    "**genres** \n",
    "\n",
    "Пропусков нет"
   ]
  },
  {
   "cell_type": "code",
   "execution_count": 26,
   "id": "98e258cf",
   "metadata": {},
   "outputs": [],
   "source": [
    "items_df.genres.value_counts()\n",
    "items_df.genres = items_df.genres.astype('category')"
   ]
  },
  {
   "cell_type": "markdown",
   "id": "21d7ff61",
   "metadata": {},
   "source": [
    "**countries**"
   ]
  },
  {
   "cell_type": "code",
   "execution_count": 27,
   "id": "e7e808eb",
   "metadata": {},
   "outputs": [
    {
     "data": {
      "text/plain": [
       "<Axes: >"
      ]
     },
     "execution_count": 27,
     "metadata": {},
     "output_type": "execute_result"
    },
    {
     "data": {
      "image/png": "[encoded data removed]",
      "text/plain": [
       "<Figure size 640x480 with 1 Axes>"
      ]
     },
     "metadata": {},
     "output_type": "display_data"
    }
   ],
   "source": [
    "# Топ 10 стран по наличию контента на площадке\n",
    "items_df.countries.value_counts().head(10).plot.bar()"
   ]
  },
  {
   "cell_type": "markdown",
   "id": "51d0e382",
   "metadata": {},
   "source": [
    "Самые крупные страны-производители фильмов в данном видеосервисе - это Россия и США."
   ]
  },
  {
   "cell_type": "code",
   "execution_count": 28,
   "id": "c3688876",
   "metadata": {},
   "outputs": [
    {
     "data": {
      "text/plain": [
       "0"
      ]
     },
     "execution_count": 28,
     "metadata": {},
     "output_type": "execute_result"
    }
   ],
   "source": [
    "# Все к нижнему регистру\n",
    "items_df.countries = items_df.countries.str.lower()\n",
    "\n",
    "# В данных 16 пропусков\n",
    "items_df.loc[items_df.countries.isna(), 'countries'] = 'countries_unknown'\n",
    "items_df.countries = items_df.countries.astype('category')\n",
    "items_df.countries.isna().sum()"
   ]
  },
  {
   "cell_type": "markdown",
   "id": "9e46932f",
   "metadata": {},
   "source": [
    "**age_rating**\n",
    "\n",
    "Тут один пропуск на детском мультике. Погуглив находим рейтинг 0+"
   ]
  },
  {
   "cell_type": "code",
   "execution_count": 29,
   "id": "aa77f3b4",
   "metadata": {},
   "outputs": [
    {
     "data": {
      "text/html": [
       "<div>\n",
       "<style scoped>\n",
       "    .dataframe tbody tr th:only-of-type {\n",
       "        vertical-align: middle;\n",
       "    }\n",
       "\n",
       "    .dataframe tbody tr th {\n",
       "        vertical-align: top;\n",
       "    }\n",
       "\n",
       "    .dataframe thead th {\n",
       "        text-align: right;\n",
       "    }\n",
       "</style>\n",
       "<table border=\"1\" class=\"dataframe\">\n",
       "  <thead>\n",
       "    <tr style=\"text-align: right;\">\n",
       "      <th></th>\n",
       "      <th>item_id</th>\n",
       "      <th>content_type</th>\n",
       "      <th>title</th>\n",
       "      <th>title_orig</th>\n",
       "      <th>release_year</th>\n",
       "      <th>genres</th>\n",
       "      <th>countries</th>\n",
       "      <th>for_kids</th>\n",
       "      <th>age_rating</th>\n",
       "      <th>studios</th>\n",
       "      <th>directors</th>\n",
       "      <th>actors</th>\n",
       "      <th>description</th>\n",
       "      <th>keywords</th>\n",
       "      <th>decade</th>\n",
       "    </tr>\n",
       "  </thead>\n",
       "  <tbody>\n",
       "    <tr>\n",
       "      <th>9366</th>\n",
       "      <td>14409</td>\n",
       "      <td>series</td>\n",
       "      <td>бибабу</td>\n",
       "      <td>None_title_orig</td>\n",
       "      <td>2017</td>\n",
       "      <td>русские, сериалы, для детей, хочу всё знать, р...</td>\n",
       "      <td>россия</td>\n",
       "      <td>NaN</td>\n",
       "      <td>NaN</td>\n",
       "      <td>NaN</td>\n",
       "      <td>NaN</td>\n",
       "      <td>NaN</td>\n",
       "      <td>В сказочное подводное царство приглашают мален...</td>\n",
       "      <td>друзья, магия и волшебство, рыбы, моря и океан...</td>\n",
       "      <td>1</td>\n",
       "    </tr>\n",
       "  </tbody>\n",
       "</table>\n",
       "</div>"
      ],
      "text/plain": [
       "      item_id content_type   title       title_orig  release_year  \\\n",
       "9366    14409       series  бибабу  None_title_orig          2017   \n",
       "\n",
       "                                                 genres countries  for_kids  \\\n",
       "9366  русские, сериалы, для детей, хочу всё знать, р...    россия       NaN   \n",
       "\n",
       "      age_rating studios directors actors  \\\n",
       "9366         NaN     NaN       NaN    NaN   \n",
       "\n",
       "                                            description  \\\n",
       "9366  В сказочное подводное царство приглашают мален...   \n",
       "\n",
       "                                               keywords  decade  \n",
       "9366  друзья, магия и волшебство, рыбы, моря и океан...       1  "
      ]
     },
     "execution_count": 29,
     "metadata": {},
     "output_type": "execute_result"
    }
   ],
   "source": [
    "items_df[items_df.age_rating.isna()]"
   ]
  },
  {
   "cell_type": "code",
   "execution_count": 30,
   "id": "b7d8a427",
   "metadata": {},
   "outputs": [
    {
     "data": {
      "text/plain": [
       "0"
      ]
     },
     "execution_count": 30,
     "metadata": {},
     "output_type": "execute_result"
    }
   ],
   "source": [
    "items_df.loc[items_df.age_rating.isna(), 'age_rating'] = 0\n",
    "items_df.age_rating = items_df.age_rating.astype('category')\n",
    "items_df.age_rating.isna().sum()"
   ]
  },
  {
   "cell_type": "code",
   "execution_count": 31,
   "id": "ca0ccb46",
   "metadata": {},
   "outputs": [],
   "source": [
    "# Стоит переделать данный признак в категориальный\n",
    "items_df.age_rating = items_df.age_rating.astype('category')"
   ]
  },
  {
   "cell_type": "markdown",
   "id": "b1f0d443",
   "metadata": {},
   "source": [
    "**for_kids**\n",
    "\n",
    " Тут пропусков заметно больше - 11539. \n",
    " "
   ]
  },
  {
   "cell_type": "code",
   "execution_count": 32,
   "id": "1ba03ce9",
   "metadata": {},
   "outputs": [
    {
     "data": {
      "text/plain": [
       "for_kids  age_rating\n",
       "0.0       16.0          199\n",
       "          18.0          128\n",
       "          12.0           81\n",
       "1.0       0.0            79\n",
       "          6.0            26\n",
       "0.0       6.0            13\n",
       "          0.0             1\n",
       "1.0       12.0            1\n",
       "dtype: int64"
      ]
     },
     "execution_count": 32,
     "metadata": {},
     "output_type": "execute_result"
    }
   ],
   "source": [
    "items_df[['for_kids', 'age_rating']].value_counts()"
   ]
  },
  {
   "cell_type": "code",
   "execution_count": 33,
   "id": "31ea6376",
   "metadata": {},
   "outputs": [
    {
     "data": {
      "text/plain": [
       "(12067, 15)"
      ]
     },
     "execution_count": 33,
     "metadata": {},
     "output_type": "execute_result"
    }
   ],
   "source": [
    "items_df.shape"
   ]
  },
  {
   "cell_type": "code",
   "execution_count": 34,
   "id": "e2e7755c",
   "metadata": {},
   "outputs": [
    {
     "data": {
      "text/plain": [
       "(581, 15)"
      ]
     },
     "execution_count": 34,
     "metadata": {},
     "output_type": "execute_result"
    }
   ],
   "source": [
    "# Посмотрим сколько данных сможем закрыть, если будем искать ключевые слова в жанрах\n",
    "# Ключевые слова подобрал отдельно\n",
    "items_df[((items_df.genres.str.contains('для детей')) | items_df.genres.str.contains('детские')| \n",
    "          items_df.genres.str.contains('kids')) & \n",
    "         (items_df.for_kids.isna())].shape"
   ]
  },
  {
   "cell_type": "markdown",
   "id": "641bf0ee",
   "metadata": {},
   "source": [
    "Довольно спорный признак, тк пропусков намного больше половины. Рискнем и оставим его! Информации мало, но мы видим, что большинство фильмов для детей или 0+ или 6+. Скорее всего наличиче контента 6+ или 0+ помеченным как \"не для детей\" объясняется разными спортивными курсами и похожими вещами. Но тк такие курсы помечаются как \"series\", а объектов такого типа меньше фильмов, то сделаем флаг в соответствии с возврастным ограничением."
   ]
  },
  {
   "cell_type": "code",
   "execution_count": 35,
   "id": "949c87f5",
   "metadata": {},
   "outputs": [
    {
     "name": "stderr",
     "output_type": "stream",
     "text": [
      "/tmp/ipykernel_27190/2850308065.py:2: SettingWithCopyWarning: \n",
      "A value is trying to be set on a copy of a slice from a DataFrame.\n",
      "Try using .loc[row_indexer,col_indexer] = value instead\n",
      "\n",
      "See the caveats in the documentation: https://pandas.pydata.org/pandas-docs/stable/user_guide/indexing.html#returning-a-view-versus-a-copy\n",
      "  nan_rows['for_kids'] = nan_rows['age_rating'].apply(lambda x: 1 if x <= 12 else 0)\n"
     ]
    },
    {
     "data": {
      "text/plain": [
       "0"
      ]
     },
     "execution_count": 35,
     "metadata": {},
     "output_type": "execute_result"
    }
   ],
   "source": [
    "nan_rows = items_df.loc[items_df['for_kids'].isnull()]\n",
    "nan_rows['for_kids'] = nan_rows['age_rating'].apply(lambda x: 1 if x <= 12 else 0)\n",
    "items_df.update(nan_rows)\n",
    "items_df.for_kids.isna().sum()"
   ]
  },
  {
   "cell_type": "markdown",
   "id": "f0565bc1",
   "metadata": {},
   "source": [
    "**studios**\n",
    "\n",
    "Тут тоже пропусков много - 11318"
   ]
  },
  {
   "cell_type": "code",
   "execution_count": 36,
   "id": "59a39bf2",
   "metadata": {},
   "outputs": [
    {
     "name": "stdout",
     "output_type": "stream",
     "text": [
      "0\n"
     ]
    },
    {
     "data": {
      "text/plain": [
       "<Axes: >"
      ]
     },
     "execution_count": 36,
     "metadata": {},
     "output_type": "execute_result"
    },
    {
     "data": {
      "image/png": "[encoded data removed]",
      "text/plain": [
       "<Figure size 1800x400 with 1 Axes>"
      ]
     },
     "metadata": {},
     "output_type": "display_data"
    }
   ],
   "source": [
    "items_df.loc[items_df.studios.isna(), 'studios'] = 'studios_unknown'\n",
    "print(items_df.studios.isna().sum())\n",
    "items_df.studios.value_counts()[1:].plot.bar(figsize=(18,4))"
   ]
  },
  {
   "cell_type": "code",
   "execution_count": 37,
   "id": "88b263a6",
   "metadata": {},
   "outputs": [],
   "source": [
    "# приведем к нижнему регистру\n",
    "items_df.studios = items_df.studios.str.lower()\n",
    "items_df.studios = items_df.studios.astype('category')"
   ]
  },
  {
   "cell_type": "markdown",
   "id": "f14c25f2",
   "metadata": {},
   "source": [
    "**directors**\n",
    "\n",
    "Пропуски - 907"
   ]
  },
  {
   "cell_type": "code",
   "execution_count": 38,
   "id": "bf913e70",
   "metadata": {},
   "outputs": [
    {
     "data": {
      "text/plain": [
       "0"
      ]
     },
     "execution_count": 38,
     "metadata": {},
     "output_type": "execute_result"
    }
   ],
   "source": [
    "items_df.directors.fillna('directors_unknown', inplace=True)\n",
    "items_df.directors.isna().sum()"
   ]
  },
  {
   "cell_type": "code",
   "execution_count": 39,
   "id": "92ec3776",
   "metadata": {},
   "outputs": [],
   "source": [
    "# Все к нижнему регистру\n",
    "items_df.directors = items_df.directors.str.lower()\n",
    "items_df.directors = items_df.directors.astype('category')"
   ]
  },
  {
   "cell_type": "markdown",
   "id": "8b0cdf65",
   "metadata": {},
   "source": [
    "**actors**\n",
    "\n",
    "Пропуски - 1799"
   ]
  },
  {
   "cell_type": "code",
   "execution_count": 40,
   "id": "26b19e93",
   "metadata": {},
   "outputs": [
    {
     "name": "stdout",
     "output_type": "stream",
     "text": [
      "0\n"
     ]
    }
   ],
   "source": [
    "items_df.actors.fillna('actors_unknown', inplace=True)\n",
    "print(items_df.actors.isna().sum())\n",
    "items_df.actors = items_df.actors.str.lower()\n",
    "items_df.actors = items_df.actors.astype('category')"
   ]
  },
  {
   "cell_type": "markdown",
   "id": "fc28af19",
   "metadata": {},
   "source": [
    "**description**\n",
    "\n",
    "Пропуски - 1 "
   ]
  },
  {
   "cell_type": "code",
   "execution_count": 41,
   "id": "e5c4f57c",
   "metadata": {},
   "outputs": [
    {
     "data": {
      "text/plain": [
       "0"
      ]
     },
     "execution_count": 41,
     "metadata": {},
     "output_type": "execute_result"
    }
   ],
   "source": [
    "items_df.description.fillna('None_description', inplace=True)\n",
    "items_df.description.isna().sum()"
   ]
  },
  {
   "cell_type": "markdown",
   "id": "659c271b",
   "metadata": {},
   "source": [
    "**keywords**\n",
    "\n",
    "Пропуски - 362"
   ]
  },
  {
   "cell_type": "code",
   "execution_count": 42,
   "id": "a7da8d8f",
   "metadata": {},
   "outputs": [
    {
     "data": {
      "text/plain": [
       "0"
      ]
     },
     "execution_count": 42,
     "metadata": {},
     "output_type": "execute_result"
    }
   ],
   "source": [
    "items_df.keywords.fillna('None_keywords', inplace=True)\n",
    "items_df.keywords.isna().sum()"
   ]
  },
  {
   "cell_type": "markdown",
   "id": "bb06f5e0",
   "metadata": {},
   "source": [
    "Фуууух, с фичами items закончили. Удалим дубликаты"
   ]
  },
  {
   "cell_type": "code",
   "execution_count": 43,
   "id": "27068880",
   "metadata": {},
   "outputs": [
    {
     "data": {
      "text/html": [
       "<div>\n",
       "<style scoped>\n",
       "    .dataframe tbody tr th:only-of-type {\n",
       "        vertical-align: middle;\n",
       "    }\n",
       "\n",
       "    .dataframe tbody tr th {\n",
       "        vertical-align: top;\n",
       "    }\n",
       "\n",
       "    .dataframe thead th {\n",
       "        text-align: right;\n",
       "    }\n",
       "</style>\n",
       "<table border=\"1\" class=\"dataframe\">\n",
       "  <thead>\n",
       "    <tr style=\"text-align: right;\">\n",
       "      <th></th>\n",
       "      <th>item_id</th>\n",
       "      <th>content_type</th>\n",
       "      <th>title</th>\n",
       "      <th>title_orig</th>\n",
       "      <th>release_year</th>\n",
       "      <th>genres</th>\n",
       "      <th>countries</th>\n",
       "      <th>for_kids</th>\n",
       "      <th>age_rating</th>\n",
       "      <th>studios</th>\n",
       "      <th>directors</th>\n",
       "      <th>actors</th>\n",
       "      <th>description</th>\n",
       "      <th>keywords</th>\n",
       "      <th>decade</th>\n",
       "    </tr>\n",
       "  </thead>\n",
       "  <tbody>\n",
       "  </tbody>\n",
       "</table>\n",
       "</div>"
      ],
      "text/plain": [
       "Empty DataFrame\n",
       "Columns: [item_id, content_type, title, title_orig, release_year, genres, countries, for_kids, age_rating, studios, directors, actors, description, keywords, decade]\n",
       "Index: []"
      ]
     },
     "execution_count": 43,
     "metadata": {},
     "output_type": "execute_result"
    }
   ],
   "source": [
    "items_df[items_df.duplicated(subset=['item_id'],  keep=False)]"
   ]
  },
  {
   "cell_type": "code",
   "execution_count": 44,
   "id": "b347d217",
   "metadata": {},
   "outputs": [
    {
     "data": {
      "text/html": [
       "<div>\n",
       "<style scoped>\n",
       "    .dataframe tbody tr th:only-of-type {\n",
       "        vertical-align: middle;\n",
       "    }\n",
       "\n",
       "    .dataframe tbody tr th {\n",
       "        vertical-align: top;\n",
       "    }\n",
       "\n",
       "    .dataframe thead th {\n",
       "        text-align: right;\n",
       "    }\n",
       "</style>\n",
       "<table border=\"1\" class=\"dataframe\">\n",
       "  <thead>\n",
       "    <tr style=\"text-align: right;\">\n",
       "      <th></th>\n",
       "      <th>item_id</th>\n",
       "      <th>content_type</th>\n",
       "      <th>title</th>\n",
       "      <th>title_orig</th>\n",
       "      <th>release_year</th>\n",
       "      <th>genres</th>\n",
       "      <th>countries</th>\n",
       "      <th>for_kids</th>\n",
       "      <th>age_rating</th>\n",
       "      <th>studios</th>\n",
       "      <th>directors</th>\n",
       "      <th>actors</th>\n",
       "      <th>description</th>\n",
       "      <th>keywords</th>\n",
       "      <th>decade</th>\n",
       "    </tr>\n",
       "  </thead>\n",
       "  <tbody>\n",
       "    <tr>\n",
       "      <th>5564</th>\n",
       "      <td>13787.0</td>\n",
       "      <td>film</td>\n",
       "      <td>пираты по соседству</td>\n",
       "      <td>Pirates Down the Street</td>\n",
       "      <td>2020.0</td>\n",
       "      <td>семейное, приключения</td>\n",
       "      <td>нидерланды</td>\n",
       "      <td>1.0</td>\n",
       "      <td>12.0</td>\n",
       "      <td>studios_unknown</td>\n",
       "      <td>пим ван хёве</td>\n",
       "      <td>матти стукер, самуэль бо ройрекас, селеста хол...</td>\n",
       "      <td>В скучном городке Линдсборо всё меняется, когд...</td>\n",
       "      <td>2020, нидерланды, пираты, по, соседству</td>\n",
       "      <td>2.0</td>\n",
       "    </tr>\n",
       "    <tr>\n",
       "      <th>9671</th>\n",
       "      <td>12889.0</td>\n",
       "      <td>film</td>\n",
       "      <td>пираты по соседству</td>\n",
       "      <td>De piraten van hiernaast</td>\n",
       "      <td>2020.0</td>\n",
       "      <td>фильмы, для детей, приключения, зарубежные, се...</td>\n",
       "      <td>нидерланды</td>\n",
       "      <td>1.0</td>\n",
       "      <td>12.0</td>\n",
       "      <td>studios_unknown</td>\n",
       "      <td>пим ван хёве</td>\n",
       "      <td>берт хана, дэвид люсиер, матти стукер, нинке б...</td>\n",
       "      <td>Самый тихий городок на свете потрясен известие...</td>\n",
       "      <td>Пираты, по, соседству, 2020, Нидерланды, друзь...</td>\n",
       "      <td>2.0</td>\n",
       "    </tr>\n",
       "  </tbody>\n",
       "</table>\n",
       "</div>"
      ],
      "text/plain": [
       "      item_id content_type                title                title_orig  \\\n",
       "5564  13787.0         film  пираты по соседству   Pirates Down the Street   \n",
       "9671  12889.0         film  пираты по соседству  De piraten van hiernaast   \n",
       "\n",
       "      release_year                                             genres  \\\n",
       "5564        2020.0                              семейное, приключения   \n",
       "9671        2020.0  фильмы, для детей, приключения, зарубежные, се...   \n",
       "\n",
       "       countries  for_kids  age_rating          studios     directors  \\\n",
       "5564  нидерланды       1.0        12.0  studios_unknown  пим ван хёве   \n",
       "9671  нидерланды       1.0        12.0  studios_unknown  пим ван хёве   \n",
       "\n",
       "                                                 actors  \\\n",
       "5564  матти стукер, самуэль бо ройрекас, селеста хол...   \n",
       "9671  берт хана, дэвид люсиер, матти стукер, нинке б...   \n",
       "\n",
       "                                            description  \\\n",
       "5564  В скучном городке Линдсборо всё меняется, когд...   \n",
       "9671  Самый тихий городок на свете потрясен известие...   \n",
       "\n",
       "                                               keywords  decade  \n",
       "5564            2020, нидерланды, пираты, по, соседству     2.0  \n",
       "9671  Пираты, по, соседству, 2020, Нидерланды, друзь...     2.0  "
      ]
     },
     "execution_count": 44,
     "metadata": {},
     "output_type": "execute_result"
    }
   ],
   "source": [
    "items_df[items_df.duplicated(subset=['content_type', 'countries', 'title', 'directors'],  keep=False)]"
   ]
  },
  {
   "cell_type": "code",
   "execution_count": 45,
   "id": "82988a92",
   "metadata": {},
   "outputs": [
    {
     "data": {
      "text/html": [
       "<div>\n",
       "<style scoped>\n",
       "    .dataframe tbody tr th:only-of-type {\n",
       "        vertical-align: middle;\n",
       "    }\n",
       "\n",
       "    .dataframe tbody tr th {\n",
       "        vertical-align: top;\n",
       "    }\n",
       "\n",
       "    .dataframe thead th {\n",
       "        text-align: right;\n",
       "    }\n",
       "</style>\n",
       "<table border=\"1\" class=\"dataframe\">\n",
       "  <thead>\n",
       "    <tr style=\"text-align: right;\">\n",
       "      <th></th>\n",
       "      <th>item_id</th>\n",
       "      <th>content_type</th>\n",
       "      <th>title</th>\n",
       "      <th>title_orig</th>\n",
       "      <th>release_year</th>\n",
       "      <th>genres</th>\n",
       "      <th>countries</th>\n",
       "      <th>for_kids</th>\n",
       "      <th>age_rating</th>\n",
       "      <th>studios</th>\n",
       "      <th>directors</th>\n",
       "      <th>actors</th>\n",
       "      <th>description</th>\n",
       "      <th>keywords</th>\n",
       "      <th>decade</th>\n",
       "    </tr>\n",
       "  </thead>\n",
       "  <tbody>\n",
       "  </tbody>\n",
       "</table>\n",
       "</div>"
      ],
      "text/plain": [
       "Empty DataFrame\n",
       "Columns: [item_id, content_type, title, title_orig, release_year, genres, countries, for_kids, age_rating, studios, directors, actors, description, keywords, decade]\n",
       "Index: []"
      ]
     },
     "execution_count": 45,
     "metadata": {},
     "output_type": "execute_result"
    }
   ],
   "source": [
    "items_df.drop_duplicates(subset=['content_type', 'countries', 'title', 'directors'],  inplace=True)\n",
    "items_df[items_df.duplicated(subset=['content_type', 'countries', 'title', 'directors'],  keep=False)]"
   ]
  },
  {
   "cell_type": "code",
   "execution_count": null,
   "id": "35041c38",
   "metadata": {},
   "outputs": [],
   "source": []
  },
  {
   "cell_type": "markdown",
   "id": "42c902ac",
   "metadata": {},
   "source": [
    "Теперь можно добавить фичей\n",
    "и первое - количество просмотров у фильмов и средний процент просмотра"
   ]
  },
  {
   "cell_type": "code",
   "execution_count": 46,
   "id": "c9cb166f",
   "metadata": {},
   "outputs": [],
   "source": [
    "grouped_data = train_part.groupby(['item_id']).agg({'user_id':'count', 'watched_pct':'mean'})\n",
    "grouped_data = grouped_data.rename(columns={'user_id': 'nwatched', 'watched_pct': 'mean_watched_pct'})\n",
    "items_df = items_df.merge(grouped_data, how='left', on='item_id')\n",
    "items_df = items_df.fillna(0)"
   ]
  },
  {
   "cell_type": "markdown",
   "id": "3009ac86",
   "metadata": {},
   "source": [
    "Добавим процент мужчин смотревших фильм"
   ]
  },
  {
   "cell_type": "code",
   "execution_count": 47,
   "id": "54c696cd",
   "metadata": {},
   "outputs": [],
   "source": [
    "train_user = train_part.merge(users_df, how='left', on='user_id')\n",
    "grouped_data = train_user.groupby(['item_id', 'sex'])['user_id'].count().reset_index()"
   ]
  },
  {
   "cell_type": "code",
   "execution_count": 48,
   "id": "c247edcb",
   "metadata": {},
   "outputs": [
    {
     "name": "stdout",
     "output_type": "stream",
     "text": [
      "<class 'pandas.core.frame.DataFrame'>\n",
      "Int64Index: 12067 entries, 0 to 16518\n",
      "Data columns (total 3 columns):\n",
      " #   Column       Non-Null Count  Dtype\n",
      "---  ------       --------------  -----\n",
      " 0   sex_unknown  12067 non-null  int64\n",
      " 1   Ж            12067 non-null  int64\n",
      " 2   М            12067 non-null  int64\n",
      "dtypes: int64(3)\n",
      "memory usage: 377.1 KB\n",
      "None\n"
     ]
    }
   ],
   "source": [
    "grouped_data = pd.pivot_table(grouped_data,\n",
    "               index = 'item_id',\n",
    "               columns= 'sex',\n",
    "               values='user_id'\n",
    ")\n",
    "print(grouped_data.info())\n",
    "tmp = grouped_data.index\n",
    "grouped_data = grouped_data.reset_index()\n",
    "grouped_data['item_id'] = tmp\n",
    "grouped_data['total_watched'] = grouped_data['Ж'] + grouped_data['М']\n",
    "grouped_data['mans_percent'] = grouped_data['М'] / grouped_data['total_watched']\n",
    "grouped_data = grouped_data.fillna(0)\n",
    "items_df = items_df.merge(grouped_data[['item_id', 'mans_percent']].reset_index(), how='left', on='item_id')\n"
   ]
  },
  {
   "cell_type": "code",
   "execution_count": 49,
   "id": "c58776a4",
   "metadata": {},
   "outputs": [
    {
     "data": {
      "text/plain": [
       "(12066, 19)"
      ]
     },
     "execution_count": 49,
     "metadata": {},
     "output_type": "execute_result"
    }
   ],
   "source": [
    "items_df.shape"
   ]
  },
  {
   "cell_type": "markdown",
   "id": "fdb681b0",
   "metadata": {},
   "source": [
    "Давайте добавим количество дней с последнего просмотра и количество просмотров за последний месяц"
   ]
  },
  {
   "cell_type": "code",
   "execution_count": 50,
   "id": "5c0bd702",
   "metadata": {},
   "outputs": [],
   "source": [
    "last_date = train_part.last_watch_dt.max()\n",
    "target_month = last_date.month\n",
    "target_year = last_date.year\n",
    "train_part['last_watch'] = (last_date - train_part['last_watch_dt']).apply(lambda x: x.days)\n",
    "\n",
    "target_month_df = train_part[(train_part['last_watch_dt'].dt.month == target_month) & \n",
    "                             (train_part['last_watch_dt'].dt.year == target_year)]\n",
    "\n",
    "month_interactions_per_item = target_month_df.groupby('item_id')['user_id'].count().reset_index().rename(\n",
    "    columns = {'user_id' : 'month_watched'})\n",
    "\n",
    "train_part = train_part.merge(month_interactions_per_item, how='left', on='item_id') \n",
    "train_part['month_watched'] = train_part['month_watched'].fillna(0)\n",
    "\n",
    "item_date = train_part.groupby(['item_id']).agg({'month_watched':'max', 'last_watch':'max'}).reset_index()\n",
    "\n",
    "items_df = items_df.merge(item_date,\n",
    "                         how='left', on='item_id')\n",
    "train_part.drop(['last_watch', 'month_watched'], axis=1, inplace=True)"
   ]
  },
  {
   "cell_type": "code",
   "execution_count": null,
   "id": "938424a4",
   "metadata": {},
   "outputs": [],
   "source": []
  },
  {
   "cell_type": "markdown",
   "id": "e334023e",
   "metadata": {},
   "source": [
    "# Теперь посмотрим на взаимодействия train"
   ]
  },
  {
   "cell_type": "code",
   "execution_count": 51,
   "id": "6d6975d5",
   "metadata": {},
   "outputs": [
    {
     "name": "stdout",
     "output_type": "stream",
     "text": [
      "user_id            0\n",
      "item_id            0\n",
      "last_watch_dt      0\n",
      "total_dur          0\n",
      "watched_pct      265\n",
      "dtype: int64\n"
     ]
    },
    {
     "data": {
      "text/plain": [
       "<Axes: xlabel='watched_pct', ylabel='Count'>"
      ]
     },
     "execution_count": 51,
     "metadata": {},
     "output_type": "execute_result"
    },
    {
     "data": {
      "image/png": "[encoded data removed]",
      "text/plain": [
       "<Figure size 640x480 with 1 Axes>"
      ]
     },
     "metadata": {},
     "output_type": "display_data"
    }
   ],
   "source": [
    "print(train_part.isnull().sum())\n",
    "sns.histplot(train_part.watched_pct)"
   ]
  },
  {
   "cell_type": "code",
   "execution_count": 52,
   "id": "9f590333",
   "metadata": {},
   "outputs": [
    {
     "data": {
      "text/plain": [
       "265"
      ]
     },
     "execution_count": 52,
     "metadata": {},
     "output_type": "execute_result"
    }
   ],
   "source": [
    "# Пропуски в просмотрах заполним просто 0\n",
    "\n",
    "# train_part.watched_pct.fillna(0, inplace=True)\n",
    "train_part.watched_pct.isna().sum()"
   ]
  },
  {
   "cell_type": "markdown",
   "id": "5d8550ba",
   "metadata": {},
   "source": [
    "Небольшая странность - у нас в взаимодействиях много пользователей (93к), которых нет в user_df"
   ]
  },
  {
   "cell_type": "code",
   "execution_count": 53,
   "id": "5b1389b8",
   "metadata": {},
   "outputs": [
    {
     "data": {
      "text/plain": [
       "93011"
      ]
     },
     "execution_count": 53,
     "metadata": {},
     "output_type": "execute_result"
    }
   ],
   "source": [
    "train_part.user_id.nunique() - users_df.user_id.nunique()"
   ]
  },
  {
   "cell_type": "code",
   "execution_count": 54,
   "id": "562cbad4",
   "metadata": {},
   "outputs": [],
   "source": [
    "items_df['month_watched'] = items_df['month_watched'].round().astype(int)\n",
    "items_df['mans_percent'] = (100*items_df['mans_percent']).round().astype(int)\n",
    "items_df['mean_watched_pct'] = (100*items_df['mean_watched_pct']).round().astype(int)\n",
    "items_df['decade'] = items_df['decade'].round().astype(int)\n",
    "users_df['mean_watched_pct'] = (100*users_df['mean_watched_pct']).round().astype(int)"
   ]
  },
  {
   "cell_type": "code",
   "execution_count": 55,
   "id": "7777c306",
   "metadata": {},
   "outputs": [
    {
     "name": "stdout",
     "output_type": "stream",
     "text": [
      "<class 'pandas.core.frame.DataFrame'>\n",
      "Int64Index: 366088 entries, 0 to 366087\n",
      "Data columns (total 10 columns):\n",
      " #   Column            Non-Null Count   Dtype   \n",
      "---  ------            --------------   -----   \n",
      " 0   user_id           366088 non-null  int64   \n",
      " 1   age               366088 non-null  category\n",
      " 2   income            366088 non-null  category\n",
      " 3   sex               366088 non-null  category\n",
      " 4   kids_flg          366088 non-null  bool    \n",
      " 5   age_sex           366088 non-null  category\n",
      " 6   income_sex        366088 non-null  category\n",
      " 7   age_income        366088 non-null  category\n",
      " 8   nwatched          366088 non-null  int64   \n",
      " 9   mean_watched_pct  366088 non-null  int64   \n",
      "dtypes: bool(1), category(6), int64(3)\n",
      "memory usage: 13.6 MB\n"
     ]
    }
   ],
   "source": [
    "users_df.info()"
   ]
  },
  {
   "cell_type": "markdown",
   "id": "1108f236",
   "metadata": {},
   "source": [
    "## Теперь сохраним данные "
   ]
  },
  {
   "cell_type": "code",
   "execution_count": 56,
   "id": "c8b9e3ce",
   "metadata": {},
   "outputs": [],
   "source": [
    "train_part.to_csv('kion_data/my_train.csv', index=False)\n",
    "items_df.to_csv('kion_data/my_items_df.csv', index=False)\n",
    "users_df.to_csv('kion_data/my_users_df.csv', index=False)"
   ]
  },
  {
   "cell_type": "code",
   "execution_count": 57,
   "id": "dc88af05",
   "metadata": {},
   "outputs": [
    {
     "name": "stdout",
     "output_type": "stream",
     "text": [
      "<class 'pandas.core.frame.DataFrame'>\n",
      "Int64Index: 12066 entries, 0 to 12065\n",
      "Data columns (total 21 columns):\n",
      " #   Column            Non-Null Count  Dtype   \n",
      "---  ------            --------------  -----   \n",
      " 0   item_id           12066 non-null  float64 \n",
      " 1   content_type      12066 non-null  object  \n",
      " 2   title             12066 non-null  object  \n",
      " 3   title_orig        12066 non-null  object  \n",
      " 4   release_year      12066 non-null  float64 \n",
      " 5   genres            12066 non-null  object  \n",
      " 6   countries         12066 non-null  object  \n",
      " 7   for_kids          12066 non-null  float64 \n",
      " 8   age_rating        12066 non-null  float64 \n",
      " 9   studios           12066 non-null  category\n",
      " 10  directors         12066 non-null  category\n",
      " 11  actors            12066 non-null  category\n",
      " 12  description       12066 non-null  object  \n",
      " 13  keywords          12066 non-null  object  \n",
      " 14  decade            12066 non-null  int64   \n",
      " 15  nwatched          12066 non-null  int64   \n",
      " 16  mean_watched_pct  12066 non-null  int64   \n",
      " 17  index             12066 non-null  int64   \n",
      " 18  mans_percent      12066 non-null  int64   \n",
      " 19  month_watched     12066 non-null  int64   \n",
      " 20  last_watch        12066 non-null  int64   \n",
      "dtypes: category(3), float64(4), int64(7), object(7)\n",
      "memory usage: 2.4+ MB\n"
     ]
    }
   ],
   "source": [
    "items_df.info()"
   ]
  },
  {
   "cell_type": "code",
   "execution_count": null,
   "id": "ee7ed20f",
   "metadata": {},
   "outputs": [],
   "source": []
  },
  {
   "cell_type": "markdown",
   "id": "a85cdf6a",
   "metadata": {},
   "source": [
    "### Перейдем к моделям, начнем с супер простого подхода – давайте всем рекомендовать топ популярных (по числу просмотров) айтемов"
   ]
  },
  {
   "cell_type": "markdown",
   "id": "b9980118",
   "metadata": {},
   "source": [
    "# Baseline #1 – Топ Популярных"
   ]
  },
  {
   "cell_type": "code",
   "execution_count": 58,
   "id": "b3345e4e",
   "metadata": {},
   "outputs": [
    {
     "data": {
      "text/html": [
       "<div>\n",
       "<style scoped>\n",
       "    .dataframe tbody tr th:only-of-type {\n",
       "        vertical-align: middle;\n",
       "    }\n",
       "\n",
       "    .dataframe tbody tr th {\n",
       "        vertical-align: top;\n",
       "    }\n",
       "\n",
       "    .dataframe thead th {\n",
       "        text-align: right;\n",
       "    }\n",
       "</style>\n",
       "<table border=\"1\" class=\"dataframe\">\n",
       "  <thead>\n",
       "    <tr style=\"text-align: right;\">\n",
       "      <th></th>\n",
       "      <th>user_id</th>\n",
       "      <th>ground_truth</th>\n",
       "      <th>toppopular_recs</th>\n",
       "    </tr>\n",
       "  </thead>\n",
       "  <tbody>\n",
       "    <tr>\n",
       "      <th>0</th>\n",
       "      <td>30</td>\n",
       "      <td>[8584, 3031, 15363]</td>\n",
       "      <td>[10440, 15297, 13865, 9728, 4151, 2657, 3734, ...</td>\n",
       "    </tr>\n",
       "    <tr>\n",
       "      <th>1</th>\n",
       "      <td>144</td>\n",
       "      <td>[3800, 11987, 10942]</td>\n",
       "      <td>[10440, 15297, 13865, 9728, 4151, 2657, 3734, ...</td>\n",
       "    </tr>\n",
       "    <tr>\n",
       "      <th>2</th>\n",
       "      <td>241</td>\n",
       "      <td>[14841, 6162, 5808, 15266]</td>\n",
       "      <td>[10440, 15297, 13865, 9728, 4151, 2657, 3734, ...</td>\n",
       "    </tr>\n",
       "    <tr>\n",
       "      <th>3</th>\n",
       "      <td>259</td>\n",
       "      <td>[16509, 10509, 4491, 5434, 4471, 10772, 817]</td>\n",
       "      <td>[10440, 15297, 13865, 9728, 4151, 2657, 3734, ...</td>\n",
       "    </tr>\n",
       "    <tr>\n",
       "      <th>4</th>\n",
       "      <td>475</td>\n",
       "      <td>[6214, 3734, 6686]</td>\n",
       "      <td>[10440, 15297, 13865, 9728, 4151, 2657, 3734, ...</td>\n",
       "    </tr>\n",
       "  </tbody>\n",
       "</table>\n",
       "</div>"
      ],
      "text/plain": [
       "   user_id                                  ground_truth  \\\n",
       "0       30                           [8584, 3031, 15363]   \n",
       "1      144                          [3800, 11987, 10942]   \n",
       "2      241                    [14841, 6162, 5808, 15266]   \n",
       "3      259  [16509, 10509, 4491, 5434, 4471, 10772, 817]   \n",
       "4      475                            [6214, 3734, 6686]   \n",
       "\n",
       "                                     toppopular_recs  \n",
       "0  [10440, 15297, 13865, 9728, 4151, 2657, 3734, ...  \n",
       "1  [10440, 15297, 13865, 9728, 4151, 2657, 3734, ...  \n",
       "2  [10440, 15297, 13865, 9728, 4151, 2657, 3734, ...  \n",
       "3  [10440, 15297, 13865, 9728, 4151, 2657, 3734, ...  \n",
       "4  [10440, 15297, 13865, 9728, 4151, 2657, 3734, ...  "
      ]
     },
     "execution_count": 58,
     "metadata": {},
     "output_type": "execute_result"
    }
   ],
   "source": [
    "class TopPopular(BaseRecommender):\n",
    "    def __init__(self):\n",
    "        super().__init__()\n",
    "\n",
    "    def fit(self, df: pd.DataFrame, item_id_col: str = \"item_id\") -> None:\n",
    "        # считаем популярность айтемов\n",
    "        self.recommendations = df[item_id_col].value_counts().index.values\n",
    "        self.trained = True\n",
    "\n",
    "    def predict(self, df: pd.DataFrame, topn: int = 10) -> np.ndarray:\n",
    "        assert self.trained\n",
    "        # возвращаем для всех одно и то же\n",
    "        return [self.recommendations[:topn]] * len(df)\n",
    "\n",
    "\n",
    "toppop = TopPopular()\n",
    "toppop.fit(train_part)\n",
    "test_part[\"toppopular_recs\"] = toppop.predict(test_part)\n",
    "test_part.head()"
   ]
  },
  {
   "cell_type": "markdown",
   "id": "cf0dda28",
   "metadata": {},
   "source": [
    "##### Посмотрим на метрики, для этого передаем тестовый датафрейм и колонку с предсказаниями, в нашем случае это `toppopular_recs`  "
   ]
  },
  {
   "cell_type": "code",
   "execution_count": 59,
   "id": "8fe15d27",
   "metadata": {},
   "outputs": [
    {
     "data": {
      "text/plain": [
       "{'ndcg': 0.17037237918248196, 'recall': 0.0763696799665908}"
      ]
     },
     "execution_count": 59,
     "metadata": {},
     "output_type": "execute_result"
    }
   ],
   "source": [
    "evaluate_recommender(df=test_part, model_preds_col=\"toppopular_recs\")\n"
   ]
  },
  {
   "cell_type": "code",
   "execution_count": null,
   "id": "b2ed02d7",
   "metadata": {},
   "outputs": [],
   "source": []
  },
  {
   "cell_type": "markdown",
   "id": "16812cd3",
   "metadata": {},
   "source": [
    "#### Не пугайтесь таких маленьких значений, в RecSys задачах часто очень тяжело подстроиться под данные, поэтому абсолютные значения невелики. Чтобы по-настоящему оценить качество вашей модели, нужно сранвить ее с каким-то простым решением, которое можно считать отправной точкой. Наш бейзлайн с популярными фильмами как раз подходит!"
   ]
  },
  {
   "cell_type": "markdown",
   "id": "88039c78",
   "metadata": {},
   "source": [
    "# Baseline #1.1\n",
    "\n",
    "### Дополним прошлый baseline - теперь не будем рекомендовать пользователям уже просмотренные фильмы"
   ]
  },
  {
   "cell_type": "code",
   "execution_count": 60,
   "id": "20e5fca0",
   "metadata": {},
   "outputs": [
    {
     "data": {
      "application/vnd.jupyter.widget-view+json": {
       "model_id": "04e7180b931143ffb8197874646cdaf0",
       "version_major": 2,
       "version_minor": 0
      },
      "text/plain": [
       "  0%|          | 0/18693 [00:00<?, ?it/s]"
      ]
     },
     "metadata": {},
     "output_type": "display_data"
    },
    {
     "data": {
      "text/plain": [
       "{'ndcg': 0.1729488339534651, 'recall': 0.0777536066175902}"
      ]
     },
     "execution_count": 60,
     "metadata": {},
     "output_type": "execute_result"
    }
   ],
   "source": [
    "# Теперь мы будем убирать просмотренные фильмы из рекомендаций\n",
    "class TopPopularUnwatched(BaseRecommender):\n",
    "    def __init__(self):\n",
    "        super().__init__()\n",
    "\n",
    "    def fit(self, df: pd.DataFrame, item_id_col: str = \"item_id\") -> None:\n",
    "        # считаем популярность айтемов\n",
    "        self.recommendations = df[item_id_col].value_counts().index.values\n",
    "        self.user_actions = df\n",
    "        self.trained = True\n",
    "\n",
    "    def predict(self, df: pd.DataFrame, topn: int = 10) -> np.ndarray:\n",
    "        assert self.trained\n",
    "        preds = []\n",
    "        for user in tqdm(df.user_id):\n",
    "            user_watched = self.user_actions[self.user_actions.user_id == user].item_id.unique()\n",
    "            \n",
    "            tmp = []\n",
    "            for rec in self.recommendations:\n",
    "                if rec not in user_watched:\n",
    "                    tmp.append(rec)\n",
    "                if len(tmp) == topn:\n",
    "                    break\n",
    "            \n",
    "            preds.append(tmp)\n",
    "        \n",
    "        return preds\n",
    "    \n",
    "toppop_watched = TopPopularUnwatched()\n",
    "toppop_watched.fit(train_part)\n",
    "test_part[\"toppopular_watched_recs\"] = toppop_watched.predict(test_part)\n",
    "test_part.head()\n",
    "\n",
    "evaluate_recommender(df=test_part, model_preds_col=\"toppopular_watched_recs\")\n"
   ]
  },
  {
   "attachments": {
    "image-4.png": {
     "image/png": "[encoded data removed]"
    }
   },
   "cell_type": "markdown",
   "id": "07d9a28c",
   "metadata": {},
   "source": [
    " # Ой, какие мы классные, побили прошлый бейслайн, можно выводить в прод!\n",
    "![image-4.png](attachment:image-4.png)\n",
    "\n",
    "# Если серьезно - дальше я попытался побить бэйслайн используя ALS, но сильно лучше не стало. Потому можно переходить в следующий файл recs.ipnb"
   ]
  },
  {
   "cell_type": "markdown",
   "id": "5e86cf0f",
   "metadata": {},
   "source": [
    "### Теперь возьмем подход посложнее, уже математически подкованный\n",
    "Мы можем представить просмотры пользователей, как матрицу, где по столбцам будут отложены айтемы, а по строкам – пользователи. В `[i,j]` ячейке будет стоять 1, если пользователь смотрел фильм/сериал и 0, если нет.  \n",
    "Тогда нашей задачей будет разложить исходную матрицу на две: матрицу пользователей и матрицу айтемов, перемножив которые, мы бы максимально приблизили известные нам единички. \n",
    "Такой подход позволит нам заполнить все пропуски в нашей матрице, то есть все нули. \n",
    "\n",
    "Для этого метода будем использовать модель **Alternating Least Squares (ALS)**. Она оптимизирует наши матрицы таким образом, чтобы мы хорошо восстанавливали все единички. \n",
    "Подробнее про модель можно почитать в [документации](https://benfred.github.io/implicit/), или, например, [тут](https://medium.com/radon-dev/als-implicit-collaborative-filtering-5ed653ba39fe), или как всегда – в интернете.\n",
    "\n",
    "![Alt text](./images/mf.png)\n"
   ]
  },
  {
   "cell_type": "markdown",
   "id": "2b03c8a5-53ae-4d69-bb22-7f6fe17715eb",
   "metadata": {},
   "source": [
    "# Baseline #2 – Матричное разложение"
   ]
  },
  {
   "cell_type": "code",
   "execution_count": 61,
   "id": "a3e5a3af-287d-441b-84c9-2ab5c5efc7cf",
   "metadata": {},
   "outputs": [],
   "source": [
    "class ALS(BaseRecommender):\n",
    "    # здесь вынесены только основные гиперпараметры модели, все вы можете посмотреть в документации\n",
    "    def __init__(\n",
    "        self, factors: int = 100, regularization: float = 0.01, alpha: float = 1.0, iterations: int = 5, **kwargs\n",
    "    ) -> None:\n",
    "        super().__init__()\n",
    "        self.model = AlternatingLeastSquares(\n",
    "            factors=factors, regularization=regularization, alpha=alpha, iterations=iterations, **kwargs\n",
    "        )\n",
    "        self.trained = False\n",
    "\n",
    "    def fit(\n",
    "        self, df: pd.DataFrame, item_col: str = \"item_id\", user_col: str = \"user_id\", value_col: str = None\n",
    "    ) -> None:\n",
    "        self.user_encoder = LabelEncoder()\n",
    "        self.item_encoder = LabelEncoder()\n",
    "        user_ids = self.user_encoder.fit_transform(df[user_col])\n",
    "        item_ids = self.item_encoder.fit_transform(df[item_col])\n",
    "        if value_col is None:\n",
    "            counts = np.ones(len(df))\n",
    "        else:\n",
    "            counts = df[value_col].values\n",
    "\n",
    "        matrix_shape = len(self.user_encoder.classes_), len(self.item_encoder.classes_)\n",
    "\n",
    "        self.sparse = csr_matrix((counts, (user_ids, item_ids)), shape=matrix_shape)\n",
    "        self.model.fit(self.sparse)\n",
    "\n",
    "        self.trained = True\n",
    "\n",
    "    def predict(self, df: pd.DataFrame, topn: int = 10) -> List[np.ndarray]:\n",
    "        assert self.trained\n",
    "\n",
    "        all_recs = []\n",
    "\n",
    "        users = self.user_encoder.transform(df[\"user_id\"])\n",
    "        for user in tqdm(users, desc=\"predicting\", leave=False):\n",
    "            encoded_rec_items = self.model.recommend(user, user_items=self.sparse[user], N=topn)[0]\n",
    "            all_recs.append(self.item_encoder.inverse_transform(encoded_rec_items))\n",
    "\n",
    "        return all_recs\n",
    "    \n"
   ]
  },
  {
   "cell_type": "code",
   "execution_count": 62,
   "id": "4e10d6a9-87d3-4a34-874d-d2b82ec74592",
   "metadata": {},
   "outputs": [
    {
     "data": {
      "application/vnd.jupyter.widget-view+json": {
       "model_id": "f22aad0a7c9b4e39ad6aff9a2dca98c6",
       "version_major": 2,
       "version_minor": 0
      },
      "text/plain": [
       "  0%|          | 0/1 [00:00<?, ?it/s]"
      ]
     },
     "metadata": {},
     "output_type": "display_data"
    },
    {
     "data": {
      "application/vnd.jupyter.widget-view+json": {
       "model_id": "",
       "version_major": 2,
       "version_minor": 0
      },
      "text/plain": [
       "predicting:   0%|          | 0/18693 [00:00<?, ?it/s]"
      ]
     },
     "metadata": {},
     "output_type": "display_data"
    }
   ],
   "source": [
    "als_rec = ALS(iterations=1, factors=2, random_state=42)\n",
    "als_rec.fit(train_part)\n",
    "test_part[\"als_recs\"] = als_rec.predict(test_part)\n"
   ]
  },
  {
   "cell_type": "markdown",
   "id": "9ec39e30",
   "metadata": {},
   "source": [
    "#### Снова считаем метрики "
   ]
  },
  {
   "cell_type": "code",
   "execution_count": 63,
   "id": "2d34c7bb-f449-46ea-843f-3ad6fc887520",
   "metadata": {},
   "outputs": [
    {
     "data": {
      "text/plain": [
       "{'ndcg': 0.15702657768326359, 'recall': 0.06956445160783432}"
      ]
     },
     "execution_count": 63,
     "metadata": {},
     "output_type": "execute_result"
    }
   ],
   "source": [
    "evaluate_recommender(test_part, model_preds_col=\"als_recs\")\n"
   ]
  },
  {
   "cell_type": "markdown",
   "id": "37b8a747",
   "metadata": {},
   "source": [
    "### Ой-ой, кажется, что качество стало хуже, чем у популярных фильмов. Возможно мы плохо обучили модель, не самым правильным образом обработали данные, или она просто не подходит для этих данных, в любом случае, вам предстоит узнать можно ли обогнать `toppop` на данном датасете."
   ]
  },
  {
   "cell_type": "markdown",
   "id": "e764468f-5813-4c11-b074-f33f53682b24",
   "metadata": {},
   "source": [
    "# Так что же нужно сделать?\n",
    "\n",
    "### tl;dr – красивые визуализации, креативные подходы, различные модели\n",
    "\n",
    "**Мы не ставим перед вами задачу выбить лучший скор на тестовой выборке** (хотя это очень желательно), задание скорее в том, чтобы исследовать различные подходы, поискать инсайты в данных, построить красивый анализ своих предсказаний и поиграться с данными.\n",
    "\n",
    "Если говорить более формально, то мы будем оценивать следующее:\n",
    "1. Какие методы вы попробовали для решения задачи\n",
    "   ##### Это могут быть\n",
    "   * статистически подходы, основанные на вашем анализе данных\n",
    "   * классические метрические методы, вроде knn, а как посчитать вектора пользователей – пусть уже ваша фантазия вам диктует. Здесь вам помогут item-based модели, вроде EASE или SLIM\n",
    "   * затюненный или модифицированный ALS (ну или любая другая модель матричной факторизации)\n",
    "   * классические модели вроде градиентных бустингов (catboost, lightGBM) тоже работают в таких задачах (вам ведь ничего не мешает учить классификатор на просмотренный и непросмотренный фильмы, правда? осталось только насэмплить вторых)\n",
    "   * очень приветствуются (но не обязательны) DL подходы, например [DSSM](https://kishorepv.github.io/DSSM/), [NCF](https://towardsdatascience.com/neural-collaborative-filtering-96cef1009401), [Bert4Rec](https://towardsdatascience.com/build-your-own-movie-recommender-system-using-bert4rec-92e4e34938c5) или [любой другой алгоритм](https://habr.com/ru/companies/prequel/articles/573880/), который вы найдете, например графовые или дифузионные подходы, почему нет)\n",
    "     \n",
    "   В общем нет никаких ограничений на модели, используйте то, что вам нравится или кажется логичным. Не стоит бросаться в крайности: обучать целый зоопарк моделей или затюнить одну до 0 ошибки. Найдите баланс между количеством и качеством)\n",
    "2. Как хорошо вы валидировали свои модели\n",
    "3. EDA (Exploration Data Analysis) данных, с которыми вы работаете\n",
    "4. EDA полученных рекомендаций, насколько они разнообразные, насколько смещены в сторону популярных айтемов и всякое такое\n",
    "5. **Обязательно** сохраните свою лучшую модель (файлик обученной модели), чтобы мы могли воспроизвести ваш результат!\n",
    "\n",
    "\n",
    "## Помните:\n",
    "1. Все дополнительные источники данных **обязательно** должны быть описаны\n",
    "2. Нет правильного способа решить задачу. Не стоит беспокоиться, что вы делаете что-то неправильно. Мы хотим увидеть творческий подход и ваши способности к исследованию и прототипированию, а не какое-то конкретное решение задачи.\n",
    "3. Вы можете использовать любые библиотеки и фреймворки, которые вам могут быть необходимы.\n",
    "4. Сфокусируйтесь на том, чтобы код были чистый и понятный. Если вы считаете, что какая-то его часть может быть непонятна, то добавьте комментарии. Мы очень сильно ценим хорошо написанный код и выводы, поэтому если решение задачи будет оформлено грязно, то мы можем отклонить заявку.\n",
    "\n",
    "## Результат\n",
    "Мы ожидаем увидеть один или два (EDA + обучение моделей) ноутбук(а) на вашем [GitHub](https://github.com/) или ссылками на ваш [Google Colab](https://colab.research.google.com/?hl=ru).\n"
   ]
  },
  {
   "cell_type": "code",
   "execution_count": null,
   "id": "49e0f248",
   "metadata": {},
   "outputs": [],
   "source": []
  },
  {
   "cell_type": "code",
   "execution_count": null,
   "id": "3b45d13f",
   "metadata": {},
   "outputs": [],
   "source": []
  },
  {
   "cell_type": "code",
   "execution_count": 64,
   "id": "c105e669",
   "metadata": {
    "scrolled": true
   },
   "outputs": [
    {
     "data": {
      "application/vnd.jupyter.widget-view+json": {
       "model_id": "7f24154de3e3436da84b912748495765",
       "version_major": 2,
       "version_minor": 0
      },
      "text/plain": [
       "  0%|          | 0/10 [00:00<?, ?it/s]"
      ]
     },
     "metadata": {},
     "output_type": "display_data"
    },
    {
     "data": {
      "application/vnd.jupyter.widget-view+json": {
       "model_id": "",
       "version_major": 2,
       "version_minor": 0
      },
      "text/plain": [
       "predicting:   0%|          | 0/18693 [00:00<?, ?it/s]"
      ]
     },
     "metadata": {},
     "output_type": "display_data"
    },
    {
     "data": {
      "text/plain": [
       "{'ndcg': 0.11459520457486976, 'recall': 0.047931364245496405}"
      ]
     },
     "execution_count": 64,
     "metadata": {},
     "output_type": "execute_result"
    }
   ],
   "source": [
    "class ALS(BaseRecommender):\n",
    "    # здесь вынесены только основные гиперпараметры модели, все вы можете посмотреть в документации\n",
    "    def __init__(\n",
    "        self, factors: int = 100, regularization: float = 0.01, alpha: float = 1.0, iterations: int = 5, **kwargs\n",
    "    ) -> None:\n",
    "        super().__init__()\n",
    "        self.model = AlternatingLeastSquares(factors=10, \n",
    "                                regularization=0.05, \n",
    "                                iterations=10, \n",
    "                                random_state=10,\n",
    "                                            )\n",
    "        self.trained = False\n",
    "\n",
    "    def fit(\n",
    "        self, df: pd.DataFrame, item_col: str = \"item_id\", user_col: str = \"user_id\", value_col: str = None\n",
    "    ) -> None:\n",
    "        self.user_encoder = LabelEncoder()\n",
    "        self.item_encoder = LabelEncoder()\n",
    "        user_ids = self.user_encoder.fit_transform(df[user_col])\n",
    "        item_ids = self.item_encoder.fit_transform(df[item_col])\n",
    "        if value_col is None:\n",
    "            counts = np.ones(len(df))\n",
    "        else:\n",
    "            counts = df[value_col].values\n",
    "\n",
    "        matrix_shape = len(self.user_encoder.classes_), len(self.item_encoder.classes_)\n",
    "\n",
    "        self.sparse = csr_matrix((counts, (user_ids, item_ids)), shape=matrix_shape)\n",
    "        self.model.fit(self.sparse)\n",
    "\n",
    "        self.trained = True\n",
    "\n",
    "    def predict(self, df: pd.DataFrame, topn: int = 10) -> List[np.ndarray]:\n",
    "        assert self.trained\n",
    "\n",
    "        all_recs = []\n",
    "\n",
    "        users = self.user_encoder.transform(df[\"user_id\"])\n",
    "        for user in tqdm(users, desc=\"predicting\", leave=False):\n",
    "            encoded_rec_items = self.model.recommend(user, user_items=self.sparse[user], N=topn)[0]\n",
    "            all_recs.append(self.item_encoder.inverse_transform(encoded_rec_items))\n",
    "\n",
    "        return all_recs\n",
    "    \n",
    "als_rec = ALS(iterations=1, factors=2, random_state=42)\n",
    "als_rec.fit(train_part)\n",
    "test_part[\"als_recs_cusom\"] = als_rec.predict(test_part)\n",
    "evaluate_recommender(test_part, model_preds_col=\"als_recs_cusom\")\n"
   ]
  },
  {
   "cell_type": "code",
   "execution_count": null,
   "id": "f1fb1d77",
   "metadata": {},
   "outputs": [],
   "source": []
  }
 ],
 "metadata": {
  "kernelspec": {
   "display_name": "Python 3 (ipykernel)",
   "language": "python",
   "name": "python3"
  },
  "language_info": {
   "codemirror_mode": {
    "name": "ipython",
    "version": 3
   },
   "file_extension": ".py",
   "mimetype": "text/x-python",
   "name": "python",
   "nbconvert_exporter": "python",
   "pygments_lexer": "ipython3",
   "version": "3.10.9"
  }
 },
 "nbformat": 4,
 "nbformat_minor": 5
}
